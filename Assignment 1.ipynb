{
 "cells": [
  {
   "cell_type": "markdown",
   "metadata": {},
   "source": [
    "# Assignment 1: TF.IDF & Cosine Similarity Programming Assignment"
   ]
  },
  {
   "cell_type": "code",
   "execution_count": 1,
   "metadata": {},
   "outputs": [],
   "source": [
    "# Mary Abigail Garcia\n",
    "# ID: 1085462\n",
    "# CSCI4126 M02\n",
    "# November 8, 2020"
   ]
  },
  {
   "cell_type": "markdown",
   "metadata": {},
   "source": [
    "I will be answering the question of \"How\n",
    "many tokens and types(unique tokens) are in each document, and in the entire corpus(collections)?\" in order from docs 1-10 and the entire corpus section by section. (Parsing document 1, 2, etc headings)"
   ]
  },
  {
   "cell_type": "code",
   "execution_count": 2,
   "metadata": {},
   "outputs": [
    {
     "name": "stdout",
     "output_type": "stream",
     "text": [
      "Gyarados\n",
      "\n",
      "\n",
      "Gyarados (ギャラドス, Gyaradosu,  or ) is a Pokémon species in Nintendo and Game Freak's Pokémon franchise. Created by Ken Sugimori, Gyarados first appeared in the video games Pokémon Red and Pokemon Green and subsequent sequels, later appearing in various merchandise, spinoff titles and animated and printed adaptations of the franchise. Gyarados is voiced by Unshō Ishizuka in both Japanese and English media. Known as the Atrocious Pokémon, Gyarados is the evolved form of Magikarp and it is well known in the Pokémon world for its fierce temper as well as its reputation for causing nothing but destruction so much so that once it has worked itself into a frenzy, it will not calm down until everything around it has been destroyed.\n",
      "Gyarados appears multiple times in the anime under various trainers such as Misty, Lance, Crasher Wake, and Nurse Joy. Two different Gyarados appear in the Pokémon Adventures manga. One is originally owned by Misty, but is traded between Red and Blue. The other is a red Gyarados that is owned by Silver. Since it appeared in the Pokémon series, Gyarados has received generally positive reception. It has been featured in several forms of merchandise, including figurines, plush toys, and the Pokémon Trading Card Game. Gyarados has been described as both one of the most well known and most powerful Pokémon. With the exceptions of Bounce and Hurricane (introduced in Generation IV and onwards), it cannot learn flying type moves.\n",
      "\n",
      "\n",
      "Design and characteristics\n",
      "Gyarados was one of 151 different designs conceived by Game Freak's character development team and finalized by Ken Sugimori for the first generation of Pocket Monsters games Red and Green, which were localized outside Japan as Pokémon Red and Blue. Originally called \"Gyarados\" in Japanese, Nintendo decided to give the various Pokémon species \"clever and descriptive names\" related to their appearance or features when translating the game for western audiences as a means to make the characters more relatable to American children. As a result, the species' beta name was \"Skulkraken\", a combination of \"skull\" or \"skulk\" and \"kraken\", but in the final release the original Japanese name was used.\n",
      "Gyarados is a large sea serpent Pokémon most similar in appearance to dragons seen in Chinese mythology. The concept of Magikarp evolving into Gyarados is based on the ancient Chinese tradition that the carp would evolve into a dragon after swimming upstream. Its snakelike body is largely blue, but its underbelly is pale yellow. It has four white fins down its back, and a large and gaping mouth. Gyarados is known for its fierce temper and wanton destructive tendencies. Once it has worked itself into a frenzy, it will not calm until everything around it is destroyed, and can even go on for a whole month. This violent nature is attributed to the dramatic structural changes its brain undergoes during evolution. During times of human conflict Gyarados are said to appear, burning entire cities down to the ground. Gyarados usually live in large bodies of water, such as lakes and ponds or even seas and oceans.\n",
      "\n",
      "\n",
      "Appearances\n",
      "\n",
      "\n",
      "In video games\n",
      "Gyarados first appears in the Pokémon video game series in Pokémon Red and Blue, and later appears in every subsequent sequel. Gyarados is found uncommonly when fishing with a Super Rod, and evolves from Magikarp when gaining enough experience in battle. In Pokémon Gold, Silver, and Crystal, and their remakes, a red Gyarados is found in the Lake of Rage. The player has one chance to catch it, (but in HeartGold and SoulSilver, it will come back after the player defeats the Elite Four) and the incident triggers the battle against Team Rocket in the Rocket Hideout in Mahogany Town. This Gyarados is mentioned at the beginning of Diamond and Pearl when the player sets out on their quest. Gyarados is used by many notable trainers such as Blue, Clair, Lance, Wallace, Pike Queen Lucy, Crasher Wake, and Cyrus. Gyarados is one of several Pokémon to gain a Mega Evolution in Pokémon X and Y. When it Mega Evolves, it becomes a Water/Dark type and gains the ability Mold Breaker.\n",
      "Gyarados makes many appearances outside of the main series, including appearances in Pokémon Snap, Pokémon Trading Card Game, Pokémon Mystery Dungeon: Blue Rescue Team and Red Rescue Team, Pokémon Ranger, and Pokémon Go. In Pokémon Mystery Dungeon: Explorers of Time and Explorers of Darkness, a Gyarados appears in the Miracle Sea. He attempts to take control of Phione, but is halted by the player's team. In PokéPark Wii: Pikachu's Adventure, Gyarados tries to take over the Beach Zone in Empoleon's absence, and is the host of a mini-game called \"Aqua Dash\". In Pokémon Go, Gyarados is generally considered one of the most difficult Pokémon to obtain - it must be evolved from a Magikarp (much like other Pokémon games) and requires 400 Magikarp candies to evolve, more than any other Pokémon in the game. In Pokkén Tournament and its deluxe Switch version, Gyarados has been shown in the Magikarp Festival as one of these arenas as only a background character, spectating a battle between the playable fighter Pokémon.\n",
      "\n",
      "\n",
      "In anime\n",
      "In the anime, Gyarados first appeared in Pokémon - I Choose You! swimming in a river. It was then seen in Pokémon Shipwreck, where James kicked his Magikarp out of frustration, and it evolved into a Gyarados. Misty owns a Gyarados. At first, she fearfully dislikes Gyarados due to a traumatic experience, but manages to get over the fear, take over the Cerulean City Gym, and add one to her team. Talkin' 'Bout an Evolution and Rage Of Innocence focused on a red Gyarados. It was on a destructive rampage until Lance captured it. This Gyarados appeared again in Gaining Groudon and The Scuffle of Legends to stop the feuding of Groudon and Kyogre. Gyarados has appeared many other times under the ownership of various trainers, such as Crasher Wake and Nurse Joy. In Coming Apart at the Dreams! a Shiny red Gyarados and its Mega Evolved form has been under ownership and usage by Team Flare Mastermind Lysandre until it, along with Lysandre and his male Pyroar, are killed in Forming a More Perfect Union!\n",
      "\n",
      "\n",
      "In printed adaptations\n",
      "In Pokémon Adventures, Gyarados debuts in the Red, Green & Blue chapter in Gyarados Splashes In!. Here, an enraged one attacks its own trainer, Misty, but is recaught by Red, who returns it to her. Later on, Misty traded this Gyarados to Red in exchange for Red's Krabby. When Red borrows Blue's Charizard to travel to Mt. Silver, he temporarily trades his Gyarados to Blue. It later appears as one of Blue's Pokémon in Volume 13, used against Entei, and later part of his revealed team during the Gym Leader faceoff. Prior to the FireRed and LeafGreen saga, Blue returns Gyarados to Red.\n",
      "A red Gyarados was the leader of a group of Gyarados. When Team Rocket used the Goldenrod City Radio Tower to disturb Pokémon, these Gyarados went crazy. At the end, it was caught by Silver. After a battle with the Masked Man, this Gyarados was frozen and remained at the bottom of Lake of Rage until Lt. Surge discovered it. Gyarados was able to free himself and Lt. Surge returned it to Silver. Misty owns a Gyarados in the Electric Tale of Pikachu manga. It is used against Ash in their gym battle.\n",
      "\n",
      "\n",
      "Reception\n",
      "Since it appeared in the Pokémon series, Gyarados has received generally positive reception. It has been featured in several forms of merchandise, including figurines, plush toys, and the Pokémon Trading Card Game.\n",
      "Though GamesRadar described Magikarp as \"[t]he ultimate in useless Pokémon\", they described Gyarados as one of the \"most well-known\" characters in the series. They also featured it as their \"Pokémon of the week\". While discussing Shiny Pokémon, GamesRadar used Gyarados' shiny form as an example of a more dramatic change in appearance. They later called it \"weird for being a Water/Flying type, but not being able to learn any flying moves at all (except for Bounce)\". Wired's John Mix Meyer described it as a \"classic powerhouse\", and GameSpy editor Justin Leeper called Gyarados a choice for \"more macho gamers\". IGN called it \"one of the most powerful Pokémon ever encountered\", comparing it to the image of Chinese mythological dragons. They also listed it as one of the \"best flying type Pokémon\", describing it as a \"flying sea snake.\"\n",
      "Author Ash Dekirk wrote that Gyarados and Magikarp were inspired by the Asiatic myth of the Dragon Gate. He adds that it is \"scaled in sapphire\" with \"catfish barbels\" on its \"somewhat blunted snout\". Author Loredane Lipperini similarly described Gyarados as resembling something from the Chinese New Year. IGN's \"Pokémon of the Day Chick\" expressed dismay at Gyarados in Pokémon Crystal, commenting that while in its predecessors Pokémon Red, Blue, and Yellow, it was one of the \"most valuable Pokémon\", they ruined it by giving it very low special attack in this game. IGN described the growth from Pokémon Diamond and Pearl to Pokémon Black and White'' as possibly being the \"series' biggest evolution since Magikarp morphed into Gyarados\". IGN commented that a Pokémon game better than Black and White was Pokémon Snap, citing one of their \"favorite experiences\" as where the player can throw Pester Balls at a Magikarp to make it evolve into Gyarados and attack the player. Author Tracy West named Gyarados the \"fourth best Water-type Pokémon\". IGN readers voted Gyarados as the 11th best Pokémon. Editor Sam wrote, \"This iconic Flying and Water Type Pokémon from the first generation of games epitomizes the trials and tribulations of training even the lamest of Pokémon.\" He says further, \"Sure, everyone made fun of you as you toted around a Magikarp, but who’s laughing now -- Now that it’s evolved into a badass sea dragon Gyarados!\" In the newest iteration of the series, Pokémon Go, the Gyarados is evolved by obtaining 400 Magikarp Candies. This continues the traditional difficulty but worthiness of obtaining a Gyarados.\n",
      "\n",
      "\n",
      "References\n",
      "\n",
      "\n",
      "External links\n",
      "\n",
      "Gyarados on Bulbapedia\n",
      "Snorlax\n",
      "\n",
      "\n",
      "Snorlax (), known in Japan as Kabigon (カビゴン), is a Pokémon species in Nintendo and Game Freak's Pokémon franchise. Created by Ken Sugimori, Snorlax first appeared in the video games Pokémon Red and Blue and subsequent sequels, later appearing in various merchandise, spinoff titles, and animated and printed adaptations of the franchise. It is voiced by Katsuyuki Konishi in the Japanese versions of the Pokémon anime and the Super Smash Bros. series of video games, while the character was voiced by Hitoshi Takagi and Mitsuru Ogata in the animated shorts Pikachu's Rescue Adventure and Pikachu & Pichu respectively. In its English-language appearances, it was originally voiced by Michael Haigney, and later Eric Stuart.\n",
      "Known as the Sleeping Pokémon, Snorlax has been said to weigh over 1,000 pounds and until Generation III was considered the heaviest known Pokémon. Snorlax has been utilized by the anime series main character Ash Ketchum, and Pokémon Adventures main character Red. Snorlax has received mixed reception, GameSpy calling it \"downright silly\", while IGN says it is \"by far the most powerful Pokémon of all\".\n",
      "\n",
      "\n",
      "Conception and characteristics\n",
      "Snorlax was one of several different designs conceived by Game Freak's character development team and finalized by Ken Sugimori for the first generation of Pocket Monsters games Red and Green, which were localized outside Japan as Pokémon Red and Blue. Called \"Kabigon\" in Japanese, Nintendo decided to give the various Pokémon species \"clever and descriptive names\" related to their appearance or features when translating the game for western audiences as a means to make the characters more relatable to American children. Basing the name off its constant sleeping spells, the species was renamed Snorlax, a combination of the words \"snore\" and \"relax\".\n",
      "Snorlax has a cream-colored face, hands and feet, while the rest of its body is teal in color. Its head is also large, and it has two small pointed teeth sticking out from its lower jaw. Its feet are extremely large compared to most Pokémon, assisting its balance when it chooses to stand. Its arms are short, but are long enough for Snorlax to grab its food and eat it. Snorlax has been said to weigh over 1,000 pounds and for a time was considered the heaviest known Pokémon. Having an enormous appetite, it will devour almost anything, even moldy and rotten food. The digestive juices in Snorlax's stomach can dissolve any kind of poison. It is such a docile Pokémon that children use its large bloated belly as a place to play. Snorlax has a pre-evolution, Munchlax, which is obtained when breeding a Snorlax that is holding a certain item.\n",
      "\n",
      "\n",
      "Appearances\n",
      "\n",
      "\n",
      "In video games\n",
      "Snorlax's main role in the games has been as a roadblock in the Kanto region. In Pokémon Red and Blue, and their remakes, the player must obtain the Poké-Flute to wake up Snorlax. In Pokémon Gold and Silver, and their remakes, the player must bring back the power to the radio tower, and then play the radio in front of Snorlax. In these games, Snorlax is used by Red, who acts as the games' final boss. In Pokémon XD: Gale of Darkness, a pre-evolution of Snorlax named Munchlax was introduced, but it wasn't until Pokémon Diamond and Pearl that it became obtainable. In Pokémon X and Y, it is once again a roadblock, this time wandering to a bridge near Camphrier Town and sleeping there. One of Camphrier Town's locals mentions that it does this at least once a year. The Poké Flute must once again be obtained, but this time the player must give it to the owner of Shabboneau Castle so he can wake it up. In Pokémon Sun and Moon, Snorlax has a unique Z-Move called \"Pulverizing Pancake.\"\n",
      "In Pokémon Snap, when using the Pokéflute, Snorlax stands up and dances to the music, which is a very high scoring picture. In Pokémon Ranger, Snorlax is seen sleeping throughout the game, effectively cutting off certain areas until later on. It eventually remains in a cave until the player completes the Ranger Browser. Snorlax is an NPC in PokéPark Wii: Pikachu's Adventure and its sequel, PokéPark 2: Wonders Beyond. Snorlax appears from a Poké Ball in the Super Smash Bros. series. Using Body Slam, it jumps up when it appears and slams whomever it hits. In Melee, Snorlax is seen as a Poké Float. It is lying down asleep and so fighting occurs on its head and belly.\n",
      "\n",
      "\n",
      "In other media\n",
      "In the Pokémon anime, they play various supporting roles in certain episodes. The first appearance of a Snorlax was in episode 41 - Wake Up Snorlax! where Snorlax becomes a roadblock to the next town Ash is traveling to. Ash Ketchum also captures one in Snack Attack! that was eating the grapefruits of the Grapefruit Islands. He uses it sporadically, mostly opting to use other Pokémon due to it constantly sleeping. Ash called upon it for the Sumo Conference in Ring Masters, and later used it to defeat Clair's Kingdra in their rematch. He also used Snorlax during the Johto League competition, first against Gary Oak where it quickly defeated Gary's Nidoqueen and Arcanine, but lost to Scizor. Snorlax then fought during Ash's following match against Harrison, defeating his Steelix and Hypno, though in the end it fell to his Houndoom. Snorlax later meets and gets to be friends with May's younger Munchlax. Most recently, Snorlax helped Ash earn the Guts Symbol from Greta in Wheel of Frontier by defeating her Hariyama with an Ice Punch and flattening her Medicham with Body Slam.\n",
      "In the Pokémon Adventures manga, Red catches a Snorlax which he nicknames \"Lax\". Red caught Lax because he was blocking the road during a bicycle race. He is very gluttonous and is driven into a frenzy by the smell of honey. Later, after extensive training, Lax becomes one of the most physically powerful members of Red's team.\n",
      "\n",
      "\n",
      "Promotion and reception\n",
      "Despite being called \"a cat with a glandular disorder\" by USA Today and \"downright silly\" by GameSpy, Snorlax has been well received by the media. IGN described Snorlax as \"one of the most powerful Pokémon of all\" in its own \"peculiar way\", noting its high strength and immobility when it decides to sleep. IGN editor \"Pokémon of the Day Chick\" called Snorlax the \"single most popular non-evolver that isn't also a legendary out there\". IGN also praised Snorlax as one of the best Normal types, alongside Tauros, calling it a \"tank\" and an effective Pokémon. GamesRadar called the character a fan favorite, further describing it as \"perhaps the most American of Pokemon [sic]\". Another editor called it \"the greatest Pokemon of all time\", and one of the most original cat Pokémon designs. Media and the Make-believe Worlds of Children found that children could relate to the character and interpret aspects of themselves in a positive light, and described it as an icon for a state of regression, but also symbolizing powerful characteristics for children. Author Loredana Lipperini called Snorlax the \"laziest Pokémon known\". Author Maria S. Barbo compared Snorlax to the character Sleepy from Snow White and the Seven Dwarfs. IGN ranked Snorlax as the 28th best Pokémon, with editor Lucas calling him \"one of the most recognizable pokémon\". Snorlax was placed at eight in Complex's \"The 50 Best Pokemon Up to Pokemon Crystal\", with Elijah Watson saying Snorlax is \"lazy as hell but surprisingly awesome\". Snorlax's popularity makes it commonly used for fanmade and official merchandise.\n",
      "\n",
      "\n",
      "References\n",
      "\n",
      "\n",
      "External links\n",
      "\n",
      "Snorlax on Bulbapedia\n",
      "Snorlax on IMDb\n",
      "Ash Ketchum\n",
      "\n",
      "\n",
      "Ash Ketchum, known as Satoshi (サトシ) in Japan, is a fictional character in the Pokémon franchise owned by Nintendo. He is the main protagonist of the Pokémon anime and manga series as well as on various merchandise related to the franchise. In Japanese, the character is voiced by Rica Matsumoto. In the English dub, he was voiced by Veronica Taylor from 1998 to 2006. Since the ninth season of the anime series, he is voiced by Sarah Natochenny for the remainder of the anime.\n",
      "His name is derived from the Japanese name (as the letters 'ash' are included in 'Satoshi') and his English motto, \"Gotta Catch 'Em All\". Ash's dream is to become a Pokémon Master. He is loosely based on Red, the player character from the Generation I games Pokémon Red, Green, Blue and Yellow as well as the Generation III games Pokémon FireRed and LeafGreen versions. The character's first official appearance in a game was in Pokémon Puzzle League.\n",
      "As the protagonist of the Pokémon anime, Ash has appeared in all episodes of the anime, all the films and several of the television specials.\n",
      "Due to the huge popularity, success, and longevity of the Pokémon anime series around the world since its debut, Ash has gone on to become one of the most well-known and recognizable animated characters of all-time (due to his status as the protagonist of the Pokémon anime), though is often overshadowed in representation by the almost universally identifiable franchise mascot, Pikachu. He is now widely considered a figurehead character of the wave of anime in the late 90s; which is credited by most anime fans as having popularized anime in the west, alongside the likes of Goku of Dragon Ball Z and Sailor Moon of the show with the same name. He is also considered a major pop icon character for Japanese pop culture in the United States. Despite this, he has been largely criticized for being stuck in a 'floating timeline,' as well as for his inability to win any major Pokémon leagues as of yet.\n",
      "Ash's outfits through the anime, especially his various hats, are also considered to be just as iconic as him, and also have good reception, in particular, his first costume from the Original Series.\n",
      "\n",
      "\n",
      "Concept and creation\n",
      "Named after creator Satoshi Tajiri, Satoshi, whose name can be taken to mean \"wisdom\" or \"reason\", was designed by Ken Sugimori and Atsuko Nishida, and intended to represent how Tajiri was as a child, obsessed with catching bugs. During localization of both for North American audiences, the character's name was changed in the anime to \"Ash Ketchum\", the first name taken from one of the possible default names players could select for the player character in Pokémon Red and Blue, and the surname tying into the former tagline (and as of Pokémon XY revived) for the series, \"Gotta catch 'em all!\"\n",
      "Tajiri noted in an interview that between Japanese and American reactions to the series, Japanese consumers focused on the character Pikachu, while Americans purchased more items featuring Ash and Pikachu, his Pokémon, together. He stated that he felt the character represented the concept of the franchise, the human aspect, and was a necessity. The character was given a rival named Gary (Shigeru in the Japanese version, after Tajiri's idol/mentor, Nintendo legend Shigeru Miyamoto), loosely based on Red's rival Blue. In an interview Tajiri noted the contrast between the characters' relationship in the games and anime; while in the games they were rivals, in the anime, Shigeru represented Satoshi's master. When asked if either Satoshi would equal or surpass Shigeru, Tajiri replied \"No! Never!\" Ash's character design was initially overseen by Sayuri Ichishi, replaced by Toshiya Yamada during the Diamond and Pearl storyline arc. Ash received a redesign in the Best Wishes! series, which included larger brown irises. In the XY series, he received minor changes, such as a decrease in the size of the 'birthmarks' on his cheeks. Ash received a major design overhaul for the Sun and Moon anime series, which started airing in Japan on November 17, 2016.\n",
      "\n",
      "\n",
      "Voice acting\n",
      "In Japan throughout the anime media, Rica Matsumoto has always provided the original Japanese voice of Ash. For the English dubbing, Veronica Taylor provided the voice of Ash in the first eight seasons of the English adaption of the Pokémon anime, which was dubbed by 4Kids Entertainment. At the time of her audition, Taylor stated that the character was temporarily named Casey, which was the name later given to a recurring character in Johto. After the script was translated from Japanese, the lines were adapted to fit the movements of the character's mouth (called lip flap). All the voices were recorded separately, so Taylor was the only one in the booth when she recorded her lines, which took approximately six to eight hours per episode. Taylor was often the first person to record, so she had to \"imagine how the previous line will be said\". \"Luckily, I work with a great director who helps with the interpretation of the line, matching of the lip flap, and consistency of the voice.\" Taylor enjoyed playing Ash because of his \"low, husky voice\" and \"energy and excitement\".\n",
      "Taylor commented that Ash and the other characters \"loosened up\" after the first ten episodes of the anime; she believed the writers were more relaxed and no longer felt the pressure of making sure everything was done correctly. Taylor commented: \"I enjoy playing Ash now much more than I did in the very beginning because I can have fun with him more, and we kind of know him and can work out how he really would react. We have the classic Ash responses and things like that.\" Sarah Natochenny replaced Taylor in season nine when The Pokémon Company International (known at that time as Pokémon USA) took over the licensing, prompting a shift in recording studios.\n",
      "\n",
      "\n",
      "Appearances\n",
      "\n",
      "\n",
      "Prior to the show\n",
      "In episode 28 of the nineteenth season (Pokémon the Series: XYZ), 'Seeing the Forest for the Trees!,' It reveals the true story of why Ash Ketchum loved Pokémon, when Ash was a little boy, he went on a field trip. However, during the trip, it started to rain, and Ash got separated from his group. Ash was forced to take shelter under a hollow tree. However, he noticed a group of Pokémon who were also seeking shelter from the rain. So, he invited them inside the tree and the Pokémon kept him safe and warm. This experience is what inspired Ash into becoming a Pokémon trainer.\n",
      "In episode 7 of the seventeenth season (XY series), 'Giving Chase at the Rhyhorn Race!,' it is also revealed that at some point in his childhood, Ash had attended a Pokémon Summer Camp, where he had previously met childhood friend Serena. At one point during the camp, Serena had hurt her knee from falling over after being startled by a Poliwag. Ash had used his handkerchief to wrap up her injury, which she had kept, and returns to Ash in this episode.\n",
      "\n",
      "\n",
      "In the anime\n",
      "\n",
      "The series starts with Ash's tenth birthday, which according to Pokémon trainer registration bylaws allowed him to become a full-fledged Pokémon trainer and obtain a starter Pokémon. As a ten-year-old hailing from Pallet Town in the Kanto region, Ash was offered a choice between three Pokémon as his starter: Bulbasaur, Squirtle and Charmander. While he was planning to choose Squirtle, he received the electric type Pokémon Pikachu from Professor Oak instead, because he woke up late and all the other starter Pokémon had been taken by other trainers. After receiving Pikachu and a Pokédex, Ash left Pallet Town to start his journey. Since then Ash has traveled the world of Pokémon, competed in many challenges, and caught newer Pokémon. He has met many companions, such as Misty and Brock.\n",
      "Throughout the series, Ash's primary enemies are a Pokémon crime organization called Team Rocket, specifically the two comical and bumbling members, Jessie and James, and their talking Meowth, who is essentially the third member of the group. Ever since being defeated by Ash's Pikachu in the second episode, \"Pokémon Emergency!\", the three of them have obsessively never stopped chasing after them to steal Ash's Pikachu, maintaining the delusion that Pikachu is abnormally powerful and presenting it to their criminal boss would make them very rich. As the enduring comical villains of the series, the Team Rocket trio occasionally show signs of goodness, such as care and friendship with their Pokémon and each other, and despite their constant antagonism, they occasionally put their differences aside and work together with Ash against a common threat, such as in Pokémon: The Movie 2000, where they aid Ash in retrieving the three treasures in order to save the world.\n",
      "During his travels, Ash still had a lot to learn as a trainer. He caught his Pokémon by merely befriending them, knew absolutely nothing about battling, and many of his gym badges were earned rather controversially. In fact, the only legitimate victories were over Lt. Surge, Koga, and Blaine, while the others were earned on technical convenience or given to him out of gratitude. Ash also shows a deep love for Pokémon in the series, protecting wild Pokémon or his own from getting injured or trying to help them, despite getting significantly hurt himself. He honed his skill as a Pokémon trainer and was able to get all 8 badges, enabling him to compete in the Indigo League. Ash was able to go to the 5th round, and achieve the Top 16 — one round further than his competitive rival Gary, who finished in the Top 32. However, due to his inexperience in handling his more powerful Pokémon, Ash was eliminated from his first Pokémon League competition in a very unflattering manner, which greatly disappointed him.\n",
      "Ash traveled to the Orange Islands with Misty and Tracey Sketchit, a Pokémon watcher, obtained all 4 badges, and competed in the Orange League to battle Drake, the Orange League Champion. Ash was able to win his battle against Drake, giving him his first League Championship as a Pokémon trainer. This particular Pokémon League exists only in the anime series, and not adapted from the video game series.\n",
      "He then traveled on to the Johto region with Brock and Misty, hoping to meet with Gary and finally defeat him in the Johto League. He won 8 badges and competed in the Johto Conference. Ash beat Gary again, in the 1st round of the conference, and was able to make it to the quarter-finals, and achieve Top 8. However he lost against his new rival Harrison, in the 2nd round. Ash then moved on and traveled through the Hoenn region, along with Brock and two new characters, May, an aspiring Pokémon coordinator, and her younger brother Max, and together they ended up bringing down the rival teams, Team Magma and Team Aqua. He was able to get all 8 badges, and then competed in the Hoenn Conference. Ash was able to defeat his 1st new rival Morrison, in the 2nd round, also entering in the quarter-finals, and achieving Top 8 again. However he lost in the 3rd round against his 2nd new rival Tyson.\n",
      "Having gone through several leagues and gotten a lot stronger, Ash decides to challenge the Kanto \"Battle Frontier\" and its 7 Brains (leaders). Ash defeats all of the Brains and acquires all the 7 Battle Frontier symbols, becoming a \"Strong Battle Frontier champion\" and qualifies for becoming a Frontier Brain himself. However Ash wanting to learn more about Pokémon and get even stronger, decides to continue his journey, not as a Frontier Brain, but as a trainer. However, having acquired all 7 symbols, he leaves with the privilege of becoming a Frontier Brain if and when he wants in the future.\n",
      "Ash, along with Brock, travel to Sinnoh, befriends a new traveling companion, Dawn, and also finds a brutal new rival in Paul; and through their journey they encounter and defeat Cyrus and his Team Galactic. Ash wins all 8 Sinnoh gym badges, and competes in the Sinnoh conference at the Lily of the Valley Island. He eventually faces Paul in the quarter-finals of the Sinnoh League Festival and finally defeats him, marking the first time Ash has ever made it into the semi-finals in a Pokémon League. Afterwards, however, Ash is matched against Tobias, a trainer who famously swept all eight Sinnoh League gyms and all other opponents with only his legendary Pokémon Darkrai. Ash is eventually defeated by Tobias, but not without having defeated his Darkrai, as well as his Latios, which is also a legendary Pokémon, whom Ash also defeated in a draw with his final Pokémon, making Ash the only known trainer to have defeated two of Tobias' legendary Pokémon, something that not even Tobias' opponent in the finals could achieve. Ash concludes his participation in the Sinnoh League with an impressive new ranking. He bids farewell with Dawn in Twinleaf Town, and parts ways with Brock for the last time.\n",
      "Once again, Ash continues his journey to the Unova region, with only his Pikachu. Here, he meets and travels with two new companions: a female trainer named Iris, and a new male trainer named Cilan, who, like Brock before him, is a gym leader. Throughout Unova, Ash meets and competes against more rivals than before, including Trip, Bianca, Stephan, Cameron, and Virgil, most of whom he befriends. Unlike previous seasons, Ash notoriously displays a drop in skill and competence, and instead regresses back to a beginner, showing little of his previous expertise and relearns many of the basics of catching Pokémon. However, Ash still manages to win all eight gym badges in Unova and then entered the Unova League, where he defeats his arrogant rival, Trip, in the first match, but gets defeated by Cameron in the quarter-finals, one match below his previous Pokémon League ranking. Cameron is then defeated by Virgil, who went on to win the League with his team of Eevee evolutions.\n",
      "Also unlike previous seasons, Ash must battle against a much more malevolent Team Rocket, as well as the evil Team Plasma. After his latest attempt to compete in the Unova League, and foiling both Team Rocket and Team Plasma's attempts to enslave Pokémon to conquer the world, Ash's friends travel with him back to Kanto, where they parted to go own their ways and bid each other farewell.\n",
      "Ash then ventured to the Kalos region to challenge the Kalos League, as well as learn more about Mega Evolution, a transformation that can take certain fully evolved Pokémon to a more powerful temporary form. While there, he began traveling with the siblings, Clemont and Bonnie, along with Serena, whom he had met during a summer camp in Pallet Town when they were much younger. They meet new rivals like Sawyer, Shauna, Tierno, Trevor, and Alain. While in Kalos, Ash befriends and acquires new Pokémon, including Froakie, which later evolves into a powerful Greninja. Although Ash does not yet have a Pokémon that can mega-evolve, the group discovers that his Greninja is capable of \"Bond Phenomenon\", a transformation where Ash and Greninja connect mentally and Greninja's body changes to a color scheme resembling Ash. Like Mega Evolution, the transformation is temporary and makes \"Ash-Greninja\" much more powerful and well capable of defeating mega-evolved Pokémon. Currently, no other known Pokémon in existence is capable of Bond Phenomenon, and several rivals have taken great interest in competing with it in the Kalos League with their own mega-evolving Pokémon.\n",
      "Like before, Ash earns all eight gym badges qualifying him to compete in the Kalos League, and with his newest Pokémon, Ash defeats many opponents and their mega-evolved Pokémon, advancing all the way to the finals, breaking his previous highest ranking, but is defeated by Alain. After the tournament, Ash and his friends help defend Lumiose City from Team Flare, the local evil organization, helped by Alain, who once was a member of Team Flare himself, but had a change of heart thanks to Ash's influence. Once Team Flare is stopped, Ash releases Greninja to help protect Kalos, and bids farewell to his friends, before returning to Pallet once again.\n",
      "During a vacation with his mother in the Alola Region, Ash has an encounter with Tapu Koko, one of the local guardian Pokémon who gives him a Z-Ring, an item that allows a trainer to bring forth special powers from their Pokémon. When Ash uses the Z-Ring for the first time with Pikachu, it produces a massive surge of energy that overloads and shatters the Z-Crystal that powers it, making Ash realize that he still must learn to control it. In order to master the power of the Z-Ring, Ash then decides to stay in Alola and enrolls at Melemele Island's Pokémon School, living with Professor Kukui and studying with his new classmates: Lana, Mallow, Lillie, Sophocles and Kiawe while battling against Team Rocket & Team Skull.\n",
      "Ash has considerably improved his abilities as a trainer over the course of the series. However, his earnestness and determination remain the same. During the first season of the series, Ash trained to catch more Pokémon than his childhood rival, Gary Oak, although Gary was always shown to be the stronger trainer. He soon began to focus more on each of his Pokémon's abilities.\n",
      "\n",
      "\n",
      "Achievements\n",
      "\n",
      "\n",
      "Badges Obtained\n",
      "Over his journey so far, Ash has collected 8 badges from each of the major regions of Kanto, Johto, Hoenn, Sinnoh, Unova and Kalos. In addition, he has also obtained 4 badges from the Orange Archipelago, and beating the Orange Islands Champion to gain the Winners' Trophy. He has also collected all 7 Frontier Symbols from Generation III's Battle Frontier, and has been offered a position as a future Frontier Brain, which he declined. In the Alola region, he has cleared the Melemele Island Grand Trial so far.\n",
      "\n",
      "\n",
      "Pokémon League Rankings\n",
      "Ash has generally improved in his Pokémon League Performances over time, placing in the Top 16 in the Indigo Plateau Conference, Top 8 in the Silver Conference, Top 8 in the Ever Grande Conference, semi-finals in the Lily of the Valley Conference, Top 8 in the Vertress Conference and runner-up in the Lumiose Conference.\n",
      "\n",
      "\n",
      "In the video games\n",
      "The only video game Ash has truly appeared in to date is Pokémon Puzzle League, where he tries to become a Pokémon Puzzle Master. This game was never released in Japan.\n",
      "In Pokémon Red, Blue, Yellow, and the remakes of Red and Blue, a character very similar to Ash (named Red) appears as a playable character as well as in cameos in Pokémon Black 2, White 2, Gold, Silver, their remakes, Sun and Moon. The anime re-imagined Red as Ash Ketchum, the same way it re-imagined Red's rival Blue as Gary Oak and Ethan (the protagonist of the second generation Pokémon games as well as their remakes) as Jimmy. Although they are counterparts, they are not the same characters because they originate from different canons and thus developed from different experiences. Though Pokémon Yellow has certain plot aspects that were inspired by the anime series, the player character is still named Red rather than Ash.\n",
      "In Pokémon Sun and Moon's demo, the player character, Sun, receives a letter from Ash, along with his Greninja, which is capable of assuming its \"Ash-Greninja\" form through its ability Battle Bond. Ash also makes a cameo in Ghost Trial of the full game, where one may see a blurry photo of him and his Pikachu in the back room.\n",
      "\n",
      "\n",
      "Printed adaptations\n",
      "The portrayals of Ash in the manga The Electric Tale of Pikachu, and Ash & Pikachu, are very similar to the one in the anime. There are key differences in the manga, though. The Electric Tale of Pikachu is based on Ash's journey up until the end of the Orange Islands travel. Ash is usually seen traveling by himself during the course of this manga although he is joined by Misty and Brock in Indigo sometimes. Misty is the only one to join Ash in the Orange Islands. The Ash & Pikachu manga is similar, although it has the episodes from the anime like \"The Fortune Hunters\" and \"A Goldenrod Opportunity\" combined, but with a couple of changes. Manga author Toshihiro Ono cited Ash as one of his favorite characters to draw for the series, stating, \"I want to go on a trip with Misty just like him! (And forget about job, rent, etc.)\". In Pokémon Adventures, Red depicts his appearance from what he wore in the games.\n",
      "\n",
      "\n",
      "Critical reception\n",
      "The book The Japanification of Children's Popular Culture cited Ash as an example of cultural identification, with the character going through similar motions players of the games had to in order to progress through them. It additionally emphasized the character's growth and development as the anime series progressed. UGO.com listed Ash fifteenth on their list of \"The Coolest Helmets and Headgear in Video Games\", stating \"Love him or hate him, y’all know Ash Ketchum for his red and white cap\". The Guinness Book of World Records 2011 Game Edition lists Ash as coming 37th out of 50 in a readers' poll of their favorite video game characters. Jian DeLeon of Complex magazine named him seventeenth on a list of \"The 25 Most Stylish Anime Characters,\" and stated, \"The first Ash outfit was hands down the best-and most memorable.\" However, he has been criticized by IGN for perpetuating floating timeline (i.e. not growing up), never succeeding, and for the ambiguity about his father, noting that the consistency could be seen having nothing as frustrating or comforting for fans.\n",
      "\n",
      "\n",
      "In other media\n",
      "Although not parodied quite as frequently as the franchise mascot Pikachu, Ash still has many parodies and appearances in various other media, ranging from an unofficial fan-made film to several representations in web media, including many parodies on the YouTube channel Smosh.\n",
      "Ash makes a brief cameo in the animated series The Simpsons, when, in the episode \"Postcards From the Wedge,\" the character Bart Simpson is watching TV while doing his homework, and a parody of the Pokémon anime appears on TV, starring Ash (in what appears to be a loose parody of his Diamond & Pearl outfit) and Pikachu. Bart remarks \"Wow, how does this show stay so fresh?\", which is both a reference to the length of the anime, as well as referencing the length of The Simpsons itself in an ironic way. In the episode \"The Perspiration Implementation\" of the TV show The Big Bang Theory, Ash is mentioned by the character Sheldon Cooper when he attempts to ask a girl out by saying \"And as Ash Ketchum said to Pikachu, I choose you.\", which specifically references how Pikachu was Ash's first Pokémon. In the episode \"Chinpokomon\" of the animated show South Park, a parody of Ash makes an appearance, along with a parody of Team Rocket's James, as characters in a TV show parodying Pokémon. The title itself is a reference to Pokémon.\n",
      "Ash also makes appearances in several segments of the show Robot Chicken, including \"Poké Ball High Life\" and \"Pokémon Tennis.\" In the show The Norm Show, the character Tommy thinks that he is Ash, and faces off against the character Norm in the episode \"Artie comes to town.\" In the Japanese Light Novel series Highschool DxD, the character of the familiar master Zatouji is a clear parody of Ash, even his catchphrase being \"Gotta catch 'em all!\" Ash also features in an ADHD Short segment called \"Pikachu gets Pokémon rabies.\"\n",
      "A man wearing Ash's original outfit also appears in a few Taiwanese Subway ads teaching passengers basic safety procedures. A man wearing Ash's original League Expo hat is also shown in the third episode of season 4 of the show Metalocalypse. In the episode \"Johnny'mon\" of the cartoon show Johnny Test, the character Blast Ketchup is a blatant parody of Ash Ketchum. The title is also a parody of Pokémon.\n",
      "In the game Overwatch, the character Hanzo says the line \"I choose you, spirit dragon,\" which is a reference to the phrase Ash frequently uses when sending out one of his Pokémon to battle, such as \"Pikachu, I choose you!\"\n",
      "Ash also made a brief appearance on The Late Show with Stephen Colbert, where he has a 'Pokémon battle' against Cartoon Donald Trump with Special Prosecutor Robert Mueller.\n",
      "\n",
      "\n",
      "Controversy\n",
      "On August 18, 2016, the XYZ episode Kalos League Victory! Satoshi's Greatest Decisive Battle (カロスリーグ優勝！サトシ頂上決戦, Karosurīgu yūshō! Satoshi chōjō kessen) (Down to the Fiery Finish! in the English dub) faced criticism from fans when Ash lost the Kalos League against Alain. The Pokémon fandom specifically criticized the episode due to misleading trailers that suggested that Ash would win the battle and because Ash had lost all of the Pokémon Leagues in past seasons. Fans also disliked the outcome because they believed Ash's Greninja had many advantages over Alain's Charizard, including the fact that water-type Pokémon resist attacks from fire-type Pokémon, and that the rare Bond Phenomenon Ash's Greninja was subject to was said to be far more powerful than a conventional Mega Evolution. Several animators of the series expressed disappointment that Ash had lost.\n",
      "\n",
      "\n",
      "References\n",
      "\n",
      "\n",
      "External links\n",
      "\n",
      "Ash Ketchum on Bulbapedia\n",
      "Ash Ketchum on Serebii\n",
      "Ash Ketchum on IMDb\n",
      "Jigglypuff\n",
      "\n",
      "\n",
      "Jigglypuff ( or ), known in Japan as Purin (プリン), is a Pokémon species in Nintendo and Game Freak's Pokémon franchise. Created by Ken Sugimori, Jigglypuff first appeared in the video games Pokémon Red and Blue and subsequent sequels, later appearing in various merchandise, spinoff titles and animated and printed adaptations of the franchise. Jigglypuff is voiced by Rachael Lillis in English and by Mika Kanai in Japanese. In live action musical Pokémon Live!, Jigglypuff is portrayed by Leah Smith.\n",
      "Known as the Balloon Pokémon, Jigglypuff evolves from Igglybuff when it reaches a certain point of happiness, and evolves into Wigglytuff when exposed to a Moon Stone. Its name is a combination of the words \"jiggly\" and \"puff\", intended to relate to its jelly-like appearance. The character has been featured in a recurring role in the anime series and served as the focus for several printed adaptions of the franchise. Since it appeared in the Pokémon series, Jigglypuff has received generally positive reception. It has been featured in several forms of merchandise, including figurines, plush toys, and the Pokémon Trading Card Game.\n",
      "\n",
      "\n",
      "Design and characteristics\n",
      "Jigglypuff was one of 151 different designs conceived by Game Freak's character development team and finalized by Ken Sugimori for the first generation of Pocket Monsters games Red and Green, which were localized outside Japan as Pokémon Red and Blue. Its Japanese name \"Purin\" derives from the Japanese loanword for custard or pudding. Nintendo decided to give the various Pokémon species \"clever and descriptive names\" related to their appearance or features when translating the game for western audiences as a means to make the characters more relatable to American children. Deciding to use a name better suited for its jelly-like appearance, the species was renamed \"Jigglypuff\", a combination of the words \"jiggly\" and \"puff\". When a Jigglypuff is exposed to a Moon Stone, it evolves into Wigglytuff. It has a pre-evolution, Igglybuff, which evolves when it reaches a certain point of happiness.\n",
      "Known as the Balloon Pokémon, Jigglypuff is shaped like a round ball, with pink skin, large blue or green eyes, catlike ears, and a tuft of fur on its forehead. Its skin is rubbery and stretchy. It can inflate its body like a balloon (usually when it becomes angry; this is accompanied by a distinctive \"honk\" sound), or flatten its body, much like fellow Nintendo character Kirby. An exact limit to the size it can grow to in this manner is unknown. Jigglypuff are characterized by putting their enemies to sleep by singing a lullaby. Before beginning to sing, they mesmerize the opponent with their soft, glowing eyes, and if they inflate themselves, they can sing for longer periods of time. They can easily adjust the wavelength of their voices to that of the brain waves of a sleeping being, allowing for their pleasing melody to put its audience to sleep. They sing without pausing to take a breath, so if the opponent is resistant to sleeping, they potentially run out of air. Game Freak's staff have noted Jigglypuff as both one of their and the public's favorite Pokémon, in terms of both anime and video game appearances.\n",
      "\n",
      "\n",
      "Appearances\n",
      "\n",
      "\n",
      "In video games\n",
      "Jigglypuff first appears as one of the 151 species of Pokémon in the Pokémon Red and Blue Versions. When a Jigglypuff is exposed to a Moon Stone, it evolves into Wigglytuff. In Pokémon Gold and Silver, it was introduced a pre-evolution, Igglybuff, which evolves when it reaches a certain point of happiness. It later appeared in several sequels, including Pokémon Ruby and Sapphire, Pokémon FireRed and LeafGreen, Pokémon Diamond and Pearl, and Pokémon HeartGold and SoulSilver. Since Pokémon X and Y, it is a dual Normal/Fairy type.\n",
      "Outside of the main series, Jigglypuff has appeared in Pokémon Pinball, Pokémon Snap, Pokémon Conquest, the Pokémon Mystery Dungeon games, the Pokémon Ranger games, and the Pokémon Rumble games. Jigglypuff is a playable character in all four Super Smash Bros. games. While Jigglypuff is referred as an \"it,\" Jigglypuff's alternate costumes in the series imply Jigglypuff is female. Despite not being a lead character in the Pokémon franchise, game director Masahiro Sakurai selected it to appear due to its similarities to Kirby, which allowed the staff to reuse the model and many animations as a base for Jigglypuff. Jigglypuff's moves in its Super Smash Bros. appearances are Sing, Rollout, Pound, and Rest. Rest's mechanics are changed entirely; instead of recovering Jigglypuff's health, the move launches foes that touch it. In addition to being one of only twelve characters to appear in all four games in the series, Jigglypuff is the only character that is unlockable in all four games except in the Wii U version of the game.\n",
      "\n",
      "\n",
      "In anime\n",
      "In the Pokémon anime series, Jigglypuff is a recurring character who aspires to be a great singer after the inspiration of Ash and company. Unfortunately, most potential audiences fall asleep before the song finishes. Jigglypuff's singing can often prove problematic to the series' protagonists, as it causes all around to fall asleep. It carries around a trademark marker, which it uses as a microphone due to its resemblance to such when it is capped. When it realizes those who have been subject to its song have fallen asleep, it angrily uses the marker to draw on their faces.\n",
      "During Jigglypuff's first appearance (\"The Song of Jigglypuff\"), it was found standing on a stump. Misty tried to capture it with the help of her Staryu, but felt bad when the Jigglypuff started crying. They soon realised that Jigglypuff was upset because it could not sing, and after a series of failed vocal exercises, Brock gave it a piece of fruit which soothed its throat. Now capable of singing, it performed for them, putting everyone within hearing range to sleep. This upset Jigglypuff, which angrily dug into Ash's backpack and pulled out a marker which it used to draw on the faces of everyone who fell asleep. Only on two occasions has Jigglypuff believed that anyone had heard its song to the end: in the first, Jigglypuff realizes that Misty's Psyduck was sleeping with its eyes open, and in the second (\"A Poké-Block Party\"), a Whismur had heard the song the first time and stayed awake due to its Soundproof ability, but on the second time it was tired and fell asleep. In \"The Ancient Puzzle of Pokémopolis\", Jigglypuff sang to two gigantic Pokémon battling each other, but these two Pokémon did not fall asleep, and instead Jigglypuff was knocked away by the energy of their battle. In the Pokémon short Pikachu's Exploration Club, Jigglypuff is parodied by a Marill, which, in the same fashion, puffs up angrily after putting its audience into sleep with its song. In Pokémon Chronicles, Marina has a Jigglypuff, but when the Jigglypuff uses Sing, people are not affected in part because of Beedrill, whose beating wings are too loud.\n",
      "In 2006, Viz released ten DVDs based around individual Pokémon in celebration of Pokémon's 10th anniversary in the United States. The Pokémon featured were determined by an online poll on pokemon.com. Out of 45 choices, Jigglypuff's received second place and was released as volume 2, with Pikachu's being the first volume. Another compilation of Pokémon anime episodes, including \"The Song of Jigglypuff\" in which Jigglypuff is introduced, is available on both VHS and DVD, entitled \"Jigglypuff Pop\", which was released by Viz Video, now Viz Media and 4Kids Entertainment.\n",
      "\n",
      "\n",
      "In printed adaptations\n",
      "In the Electric Tale of Pikachu manga, a girl named Mimi owns a Jigglypuff, who helps defend a herd of wild Clefairy from Jessie and James of Team Rocket. The Magical Pokémon Journey manga series has a female Jigglypuff as one of the main characters, parodying Hello Kitty, and is introduced to the series in a volume called Cooking With Jigglypuff. The Jigglypuff in Magical Pokémon Journey is spoiled and rich, living in a mansion with Wigglytuff and Squirtle, the former being her sister and the latter her butler. Jigglypuff's Magic Lullaby is part of the Pokémon Tales series for very young children. Written by Megumi Hayashibara and illustrated by Kagemaru Himeno, it tells the story of Jigglypuff who wants to make the other Pokémon happy by singing for them. Yet, as usual, her song puts them to sleep, and this makes her very sad until her friend helps her resolve the situation.\n",
      "In the Pokémon Adventures manga, one of the main characters, Green, has a Jigglypuff which is capable of swelling up to several times its size. This allows Green to float with it like a hot-air balloon as well as block narrow passageways—a tactic instrumental in helping Silver and her escape the Masked Man. It evolved in Breaking the Restraint into a Wigglytuff alongside two of Green's other Pokémon with the power of her Moon Stones.\n",
      "\n",
      "\n",
      "Promotion and reception\n",
      "\n",
      "Jigglypuff is often featured on products where a scene of several Pokémon are shown. An example of this is the full-sized Pokémon 747 aircraft by Boeing. Jigglypuff appeared on the starboard nose of the original white 1998 aircraft, and above the starboard wing of the 1999 blue aircraft. Jigglypuff was also on the nose of the international version of the plane. Jigglypuff has been made into several different toy and plush forms, as well as other items. These include, a four-inch action figure by Tomy Toys, small beanbag plush toy by Hasbro, a Halloween costume by Disguise Costumes, a six-inch plush \"Christmas Jigglypuff\", and an articulated action figure also by Hasbro. Author Harry Schlesinger wrote that Jigglypuff was popular among girls.\n",
      "Jigglypuff has proven a popular character since its introduction. Described as \"perhaps the most ridiculously named Pokémon\" of the original 151 by The Virginian-Pilot, Jigglypuff has been noted as one of the series' most popular characters and one of Nintendo's mascots. The book Pikachu's Global Adventure: The Rise and Fall of Pokémon' described Jigglypuff as popular with a young, female audience across the franchise as a whole, attributing said popularity to both the immediate attraction of children to its pink color and its contrast to Pokémon species more popular with young males, such as Squirtle or Charmander. The journal Sex Roles noted that while Jigglypuff's gender in the anime was never explicitly stated, it was identified by a majority of people as a female character in the series. Additionally, it was most often named female Pokémon by children when asked to recall one, which the study attributed to its pink color and ability to sing its opponents to sleep. The Australian Journal of Language and Literacy cited Jigglypuff as a tool to use for introducing children to drama, citing its mannerisms in the anime. Jigglypuff ranked third on GameDaily's \"Pretty in Pink Video Game Characters\" article.\n",
      "GamesRadar editor Carolyn Gudmundson listed the \"huggable pink blob\" type Pokémon as one of the most overused Pokémon designs, stating that it had a memorable run on the anime. IGN editor Lucas Thompson described it as a popular punching bag in the Super Smash Bros. series, but also has dedicated players who make good use of it in battle. Andrew Tei of Mania.com complained that Jigglypuff's portrayal in the anime quickly becomes irritating. Carolyn Gudmundson of GamesRadar disagreed, calling Jigglypuff's anime appearances \"totally badass\" while also criticizing its unoriginal, overused design.\n",
      "\n",
      "\n",
      "References\n",
      "\n",
      "This article incorporates text by from the Pokémon Wiki available under the CC BY-SA 3.0 license.\n",
      "\n",
      "\n",
      "External links\n",
      "\n",
      "Bulbapedia article about Jigglypuff\n",
      "Jigglypuff on IMDb\n",
      "Charizard\n",
      "\n",
      "\n",
      "Charizard (), known in Japan as Lizardon (リザードン, Rizadon), is a Pokémon species in Nintendo and Game Freak's Pokémon franchise. Created by Ken Sugimori, Charizard first appeared in the video games Pokémon Red and Blue and subsequent sequels. They have later appeared in various merchandise, spinoff titles and animated and printed adaptations of the franchise. Shin-ichiro Miki, the actor who voices James in the original Japanese version of the Pokémon anime, voices Charizard in both the Japanese and English-language versions of the anime. An orange, draconic Pokémon, Charizard is the evolved form of Charmeleon and the final evolution of Charmander. It has two other forms, Mega Charizards X and Y, which are its \"Mega Evolution\" forms.\n",
      "Charizard is featured in the Pokémon anime series with the most recurring being from the main character Ash Ketchum. It is featured in printed adaptations such as Pokémon Adventures, in the possession of Blue, one of the main characters. Charizard appears in Pokémon Origins with main character Red as its trainer. Charizard has received positive reception from the media, with GamesRadar describing it as \"hands-down one of the coolest Pokémon out there\". Charizard is the version mascot of Pokémon Red and FireRed versions, and makes an appearance on the boxarts of Pokémon Stadium, Pokémon Ranger, Pokémon Mystery Dungeon: Red Rescue Team, Pokémon Mystery Dungeon: Explorers of Sky, and Pokémon Super Mystery Dungeon.\n",
      "\n",
      "\n",
      "Concept and characteristics\n",
      "Charizard was one of several different character choices conceived by Game Freak's character development team and finalized by Ken Sugimori for the first generation of Pocket Monsters games Red and Green, which were localized outside Japan as Pokémon Red and Blue. Originally called \"Lizardon\" in Japanese, Nintendo decided to give the various Pokémon species \"clever and descriptive names\" related to their appearance or features when translating the game for western audiences as a means to make the characters more relatable to American children. As a result, they were renamed \"Charizard\", a combination of the words \"charcoal\" or \"char\" and \"lizard\". During an interview, Pokémon Company president Tsunekazu Ishihara stated Charizard was expected to be popular with North American audiences because of their preference for strong, powerful characters.\n",
      "Whereas its pre-evolutions Charmander and Charmeleon are ground-bound lizard like creatures, Charizard resembles a large traditional European dragon. Despite the resemblance, Charizard is explicitly a Fire/Flying-type, not a Dragon-type, except in its \"Mega Charizard X\" form; however, it can learn Dragon-type attacks. Charizards have two wings that are teal, while the back of it is orange, as with the most of its body. Its belly and soles are cream-colored, while their eyes are light blue in color. The video games describe Charizard as having wings that can carry them close to an altitude of 4,600 feet, flying proudly around the sky and constantly seeking for powerful opponents to quarrel with. They can breathe intense flames that can melt any material, but will never torch a weaker foe. If Charizard become angry, the flame at the tip of their tail can flare up in a whitish-blue color. Because of their reckless behavior, Charizard are known to unintentionally cause wildfires. When Charizard is Mega Evolved, it can take on one of two forms. In its \"X\" form, it gains the Dragon type, and its color scheme changes from orange and cream to black and blue. In its \"Y\" form, its appearance gets sharper with pointed horns and wings, and it is able to fly much higher. In the episode \"Charmander - The Stray Pokémon\" in which is the episode where Ash catches- or rather - befriends Charmander it is learnt that a Charmander or any of its evolutions die if their tail fire goes out.\n",
      "\n",
      "\n",
      "Appearances\n",
      "\n",
      "\n",
      "In video games\n",
      "Charizard made its video game debut in 1996 with the Japanese release of Pokémon Red and Blue. It is available only through Pokémon evolution from the starter Pokémon Charmander. In Pokémon Gold, Silver, and Crystal, and their remakes, Pokémon HeartGold and SoulSilver, Charizard is used by Red, who acts as the games' final boss. Charizard is one of several Pokémon in Pokémon X and Y that is able to use the new Mega Evolution mechanic, becoming either Mega Charizard X or Mega Charizard Y. It was given a Mega Evolution about one and a half years into the development of Pokémon X and Y. Charmander (along with Bulbasaur and Squirtle) was added to the game in a significant role in order to allow players to experience Charizard's Mega Evolution.\n",
      "Charizard has made appearances in many other Pokémon games. It appears in Pokémon Mystery Dungeon: Blue Rescue Team and Red Rescue Team on a team with an Alakazam and Tyranitar, who play a significant role in the story. In Pokémon Ranger, Charizard is a boss Pokémon who becomes attached to the player's character and assists him or her throughout the game. Charizard returns in Pokémon Ranger: Guardian Signs as another boss character. It is also one of the photographable Pokémon in Pokémon Snap, as well as a non-playable character in PokéPark Wii: Pikachu's Adventure and its sequel, PokéPark 2: Wonders Beyond.\n",
      "Charizard has appeared many times throughout the Super Smash Bros. series. Charizard first appears as a non-playable character in Super Smash Bros. and Super Smash Bros. Melee, as one of the Pokémon which can appear if a player throws a Poké Ball. In Super Smash Bros. Brawl, Charizard is playable, under the command of the Pokémon Trainer. The Trainer has a Squirtle and an Ivysaur, all three of which can be switched between; unlike the other fighters, these Pokémon become fatigued and consequently weaker, and must be switched out long enough to recover. Charizard's moves include Rock Smash, Flamethrower, and Fly. Charizard is playable as a stand-alone character in Super Smash Bros. for Nintendo 3DS and Wii U, where he gains the move Flare Blitz and his new Final Smash is transforming into Mega Charizard X. Charizard also appears as a playable fighter in Pokkén Tournament.\n",
      "\n",
      "\n",
      "In anime\n",
      "In the anime, the most notable Charizard is one Ash Ketchum has had since he was a Charmander abandoned by his former owner Damian. Ash's Charmander evolved into Charmeleon during a battle against an army of Exeggutor, and his personality changed completely, becoming a disobedient Pokémon and fighting when and how he pleased. Charmeleon evolved when Ash summoned him for protection from wild prehistoric Pokémon; when an Aerodactyl attacked him and carried Ash off, Charmeleon evolved to fight the Aerodactyl and rescue Ash. Charizard still did not obey Ash, preferring to sleep, and only battled Pokémon that would pose a challenge, but Charizard helped Ash reach his goals, particularly against Gym Leader Blaine. Charizard's disobedience to Ash cost him the Kanto League. Charizard became loyal during the Orange Islands arc after Ash battled a trainer with a Poliwrath and Charizard was frozen solid. Because of Ash's continuous self-sacrificing efforts to save Charizard from certain death, he began to obey Ash and defeated the Poliwrath in a rematch. He remained on Ash's team and contributed to his wins in the Orange League and parts of Johto. He eventually stayed behind in the Charizific Valley, a reserve where wild Charizard battle and train to become stronger. This was likely due to meeting Charla, a female Charizard for whom he developed a fondness. Charizard, like many of Ash's other Pokémon, returns on a temporary basis to battle at Ash's side, typically when Ash faces a particularly powerful Pokémon. Charizard has saved Ash's life on more than one occasion, as seen in the film Spell of the Unown, where he battled against Entei after arriving in the nick of time to prevent Ash and Pikachu from falling to their deaths, having flown over from the Charizific Valley after originally seeing a live broadcast from Ash running after Entei who had kidnapped Ash's mother, Delia Ketchum. Charizard returned during the Johto Pokémon League and defeated Gary's Blastoise, who had a type advantage over Charizard. Charizard also returned for Ash's first Battle Frontier battle, where he took on Articuno at the Battle Factory and won thanks to an unorthodox strategy. During the Best Wishes series Charizard officially rejoined Ash's team while Ash was exploring the Unova (Isshu) region. Upon meeting Ash again, he gave his trainer a Flamethrower to the face much to everyone's surprise. Charizard also developed a fierce rivalry with Iris's Dragonite so much so that both Ash and Iris agreed to have a battle. During the battle which originally began on the ground but later ascended skywards when both Pokémon took to the skies, it was shown that Charizard had learnt Wing Attack, Slash, and Dragon Tail but despite the two Pokémon having something of a very fierce rivalry with one another, N immediately called the battle off after realizing that Dragonite had injured its right arm. Charizard stayed with all of Ash's Pokémon sans Pikachu at Professor Oak's laboratory when Ash leaves Kanto once more for the faraway Kalos region. Charizard is Ash's strongest Pokémon.\n",
      "Another Charizard appears in Pokémon X and Y, under the ownership of Alain. This Charizard can Mega Evolve into Mega Charizard X and has shown to be powerful by defeating 10 Mega Evolutions in a row and defeating Ash's Greninja, who had a type advantage. It also easily defeated Trevor's Charizard, who can Mega Evolve into Mega Charizard Y.\n",
      "Charizard has its own DVD that contains three episodes featuring it: \"Attack of the Prehistoric Pokémon\", \"Charizard Chills\", \"Charizard's Burning Ambition\". This DVD is part of the 10th Anniversary Box Set; in the Box Set's \"10 Most Wanted Pokémon\" countdown Charizard is listed as the third most wanted, beaten only by Pikachu and Jigglypuff.\n",
      "In Pokémon Origins, which is not canon, another Charizard appears under the ownership of Red, Ash's video game counterpart, where it started off as Red's starter Pokémon. After winning many battles, it eventually evolved into Charmeleon, and later Charizard. Red's Charizard helped its trainer defeat Team Rocket, win the Pokémon League, as well as help Red capture the elusive Pokémon, Mewtwo. During its battle against Mewtwo, Red's Charizard went through Mega Evolution and became Mega Charizard X. Red's Charizard is the first Pokémon to Mega Evolve in an anime.\n",
      "\n",
      "\n",
      "In printed adaptations\n",
      "In Pokémon: Pikachu Shocks Back which loosely parallels the storyline of the anime, Ash catches a Charmander, and it ultimately becomes a Charizard and battles in the Pokémon League tournament. Despite his catch, he has trouble controlling it. Ash brings Charizard to the Orange Islands and trains it diligently since the near-disaster. He then uses it to battle Dragonite in the final showdown with the Orange Crew Supreme gym leader Drake.\n",
      "In the Pokémon Adventures manga, Blue receives a Charmander from his grandfather Professor Oak. It evolves into a Charmeleon, and when Blue is possessed by a Gastly in the Lavender Tower, so is Charmeleon. Blue's Charmeleon is eventually released from its possession only to be faced down by an Arbok, owned by Koga. Charmeleon tricked Koga by using a zombie Psyduck to deflect Arbok's acid attack before literally slicing the Arbok in half with his tail. Blue later appears with an evolved Charizard and gains access to Saffron City by helping to disable a barrier created by a Mr. Mime. Later, Red and Blue face off against Koga's Articuno and are frozen by its Ice Beam, but they ultimately defeat the Team Rocket Executive with Charizard's Flamethrower. It then teams up with Red's newly evolved Venusaur, Saur, and Green's Blastoise, Blasty, to defeat Sabrina's monster Pokémon. They end Team Rocket's control of Saffron City, splitting apart the three birds in the process.\n",
      "Blue's Charizard re-appeared during the final match of the ninth Pokémon League, against his longtime rival Red. Despite the type advantage, Charizard battles against Saur and is nearly knocked out. As the battle progresses the two trainers send out their first Pokémon to battle again, when Saur binds Charizard from attacking. Suddenly, thunderclouds form from the attacks of Poli and Pika, and Saur submerges a vine into the cloud, shocking Charizard and knocking it out. When the \"FireRed and LeafGreen\" volume of the manga began the original protagonists – Red, Blue, and Green – return to fight the newly formed Team Rocket and the Deoxys under their power. The three trainers become trapped inside the Trainer Tower in the Sevii Islands, battling the main computer of the building and the Deoxys Divides. After struggling to co-ordinate Blasty, Saur, and Charizard, the three trainers manage to focus the angle of the three powerful attacks – Blast Burn, Hydro Cannon, and Frenzy Plant – to free Mewtwo, who in turn destroys the Trainer Tower.\n",
      "Charizard appeared as the main Pokémon in the short novel, Charizard Go! Adapted by Tracey West, the novelisation retells Ash's journey with his Charmander, and it reaches its climax as Ash and Charizard battle in the Pokémon League at the Indigo Plateau against his good friend Ritchie. The story covers Ash and his companions finding the abandoned Charmander, the battles in which Charmeleon did not listen to Ash, and Charizard's battle against Blaine's Magmar. Charizard Go! is the sixth novel in the Pokémon Chapter Books series. Another chapter novel, All Fired Up: Pokémon the Johto Journeys, adapted by Jennifer Johnson, covers the portion of Ash's journey near Violet City and the Characific Valley. In the novel, Ash wonders if Charizard should leave his team forever; it covers the capture of Ash's Cyndaquil, his new fire Pokémon.\n",
      "\n",
      "\n",
      "Reception and legacy\n",
      "Charizard has been featured in lines of soft toys and action figures in the Pokémon franchise, made by Hasbro, and Tomy. In 2004, the \"Charizard Medium Plush\" was part of a major recall of 13 plush toys due to a manufacturing fault where tips of needles were being found with the stuffing. This allowed Tomy to replace the toys with compensation or replacements. Charizard appears often in the Pokémon Trading Card Game, most notably in the series' initial release. Cards featuring the character have been stated to be the most desired of the series, quickly rising to high prices amongst collectors and retailers. These cards overpowered and knocked out opponents in one hit. In 2005, search engine Yahoo! reported Charizard as \"one of the top Pokémon-related web searches\".\n",
      "Described by the media as \"a lean, ferocious, fire-breathing dragon [...] sleek, powerful, and utterly destructive\", Charizard has been noted as one of the franchise's \"most popular\" characters. Retailers have attributed the high sales of merchandise related to the character to the popularity of the character's dragon-like design with children. Interviewed children have stated similar; they attributed its appeal to its \"cool looking\" appearance and associating the character with the \"concepts of stubbornness and power\". The book Rebuilding Attachments With Traumatized Children stated psychiatrists utilized the character as an empowered character traumatized children who were fans of the Pokémon series could relate to. The book Pikachu's Global Adventure: The Rise and Fall of Pokémon cited Charizard as \"popular\" with older male children who tend to be drawn to \"tough or scary\" characters, and compared the character's evolution from Charmander into Charizard with the loss of \"cuteness\" as one leaves childhood.\n",
      "IGN editor \"Pokémon of the Day Chick\" called Charizard \"certainly the most popular and perhaps the most well-balanced of any of the current starting Pokemon\". GamesRadar's Brett Elston described Charizard as \"hands-down one of the coolest Pokémon out there\", heavily praising its character design and calling it \"one of the coolest\" designs of the entire series. GamesRadar editor Raymond Padilla stated \"Charizard was an awesome Pokemon back in the day and still an excellent choice more than a decade after it was introduced.\" UGO.com described Charizard as a \"winged, dragon-like creature\" which is \"able to breathe fire and smash opponents into red-tinged goo\", but states that in Brawl, it is \"as slow as Bowser\" and \"lacks the coolness factor of Mario's arch-nemesis.\"\n",
      "Authors Tracey West and Katherine Noll called Charizard the \"best Fire type Pokémon\" and the \"third best Pokémon overall\". They wrote that \"there was nothing else that could better fit that spot\" and that \"it has won [their] hearts and had [them] cheering for more.\" 1UP editor Kat Bailey expressed concern about which Pokémon could follow the player in Pokémon HeartGold and SoulSilver, stating \"allowing popular favorites like Charizard would go over quite well\". The Daily Cardinal editor Kyle Sparks called Charizard \"the most dominant Pokémon in the whole universe, a force of sheer strength\". In a poll conducted by IGN, it was voted as the \"best Pokémon\", where the staff commented about remembering being torn between choosing Blastoise and Charizard at the start of the game. In a poll by Official Nintendo Magazine, Charizard was voted as the \"best Fire-type Pokémon\". They stated, \"not only is Charizard your favourite fire Pokémon, but it is probably one of the most popular 'mon of all time\". Kotaku editor Patricia Hernandez criticized Charizard's Y Mega Evolution for not differing enough from Charizard's original design, while praising Mega Charizard X for changing color, and turning Charizard into a dragon-type. Game Informer ranked Charizard as the \"coolest Pokémon out of the original 151\", describing it as \"Powerful, gigantic, and imposing\". They further commented that \"Pikachu may be the one you recognize, but Charizard is the one you want.\"\n",
      "\n",
      "\n",
      "References\n",
      "\n",
      "\n",
      "External links\n",
      "\n",
      "Charizard on Bulbapedia\n",
      "Charizard on IMDb\n",
      "Mewtwo\n",
      "\n",
      "\n",
      "Mewtwo (Japanese: ミュウツー, Hepburn: Myutsū,  or ) is a fictional creature from Nintendo and Game Freak's Pokémon media franchise. Created by Ken Sugimori, it first appeared in the video games Pokémon Red and Blue and their sequels, and later appeared in various merchandise, spinoff titles, as well as animation adaptations of the franchise. Masachika Ichimura voiced the franchise's original Mewtwo character in Japanese, and the creature's younger self is voiced by Fujiko Takimoto in the Sound Picture Box: Mewtwo's Origin CD drama and Showtaro Morikubo in the anime adaptation. In English, Jay Goede voiced Mewtwo in Mewtwo Strikes Back and the Pokémon Live! musical. For the former production, he was credited under the pseudonym \"Philip Bartlett\". Dan Green provided the voice in Mewtwo Returns. Actress Reiko Takashima voices a separate Mewtwo character in the prequel special Mewtwo: Prologue to Awakening and the film ExtremeSpeed Genesect: Mewtwo Awakens; this second Mewtwo is voiced by actress Miriam Pultro in the English dub.\n",
      "In the video games, the player can fight and capture Mewtwo to pit it against other Pokémon. The player first learns of Mewtwo late in Pokémon Red and Blue by reading research documents left in a ruined laboratory on Cinnabar Island.\n",
      "Regarded as one of the series' strongest Pokémon, it changed the way players approached the games by forcing them to find ways to counteract those using Mewtwo. Studies found the character popular with older male children, which contrasted with its counterpart and genetic source material, Mew. Reactions to Mewtwo's first anime portrayal have been divided; reviewers such as Daily Record cited it as a cliché villain, while others such as Animerica and Sight & Sound praised the character's depth.\n",
      "\n",
      "\n",
      "Design and characteristics\n",
      "Japanese video game designer Ken Sugimori designed Mewtwo for the first generation of Pocket Monsters games, Red and Green, known outside Japan as Pokémon Red and Blue. Its name, which means the \"second of Mew\", derives from its existence as a genetic duplicate of the original Mew. Until the first Pokémon movie was released in the United States, Mewtwo was rarely referred to as a \"clone\" in Japanese sources. Kubo Masakazu, executive producer of Mewtwo Strikes Back, explained that they \"intentionally avoid using the term 'kuron' [clone]… because the word has a frightening feel\". Despite being Mew's descendant, Mewtwo directly precedes Mew in the game's numerical Pokémon index owing to the latter's secret inclusion by Game Freak programmer Shigeki Morimoto. During an interview, Pokémon Company president Tsunekazu Ishihara stated that Mewtwo was expected to be popular with North American audiences, citing their preference for strong, powerful characters.\n",
      "Despite being Mew's clone, Mewtwo's appearance is very different in comparison. It appears as a bipedal feline that is 6 feet 7 inches (201 cm) tall and has a white body with a pronounced purple tail and stomach, purple pupils, bulbous fingertips, feline head, and a mass of flesh that connects from the center of its back to its head behind its neck. Its appearance has been likened to \"an oversized cross of cat, squirrel and kangaroo\". In the original games, Mewtwo is intended to be \"the strongest Pokémon ever\". As a result of being cloned from a sample of Mew's DNA, Mewtwo is an extremely powerful psychic, yet its abilities surpass Mew's due to intentional alterations to the genetic source material it was cloned from. As such, it can use telekinesis for flight, to shield itself or to powerfully throw opponents aside. In addition, it is among the very few Pokémon capable of human speech, which it does so via telepathy. Otherwise, it conserves its energy until needed. In addition to its psychic abilities, Mewtwo can regenerate, which allows it to quickly recover from near-fatal injuries. Despite being Mew's clone, Mewtwo does not share its ability to learn every single teachable move within the games.\n",
      "As a character in the games, Mewtwo's physical appearance is not its only stark divergence from Mew. While the alterations to the genetic source material it was cloned resulted in its abilities surpassing Mew's, it also resulted in Mewtwo developing a vicious personality that is primarily interested in proving its own strength. The franchise's non-video game media, particularly the anime, has expanded upon the character. In the most notable instance, Mewtwo telepathically speaks with a male voice and is existentially torn over its purpose in the world.\n",
      "\n",
      "\n",
      "Appearances\n",
      "\n",
      "\n",
      "In video games\n",
      "In Pokémon Red and Blue, the player learns of Mewtwo's existence by reading research notes left in the ruined Pokémon Mansion on Cinnabar Island. The notes say that the island's scientists discovered a new Pokémon in a Guyana jungle, that they named it Mew, and that it later gave birth to a creature they called Mewtwo; the game's Pokédex entry states that Mewtwo was \"created by a scientist after years of horrific gene splicing and DNA engineering experiments\". Mewtwo proved too mighty to control, destroying the laboratory and escaping. The player is later given an opportunity to capture Mewtwo in the Cerulean Cave, which is accessible only after defeating the game's final bosses, the Elite Four and Blue; in the remakes Pokémon FireRed and LeafGreen this prerequisite was expanded, requiring the player to explore more thoroughly and record information on sixty Pokémon species before access to the cave would be granted. Mewtwo is catchable in Pokémon HeartGold and SoulSilver in the same location as before after defeating all of the gym leaders in Kanto. The character was also the focus of a promotion and downloadable content giveaway for Pokémon Black and White. Mewtwo also reappears in Pokémon X and Y after completing the main story, and is one of the handful of Pokémon capable of using the new Mega Evolution mechanic, as it can become either Mega Mewtwo X or Mega Mewtwo Y.\n",
      "Since its debut, Mewtwo has appeared in other Nintendo games. In Pokémon Stadium and Pokémon Pinball, Mewtwo appears as a final boss after all competitions have been completed. In Pokémon Puzzle League, Mewtwo serves not only as the final opponent, but also as the main antagonist responsible for the game's events. Other games, such as Super Smash Bros. Melee and the Pokémon Mystery Dungeon series, have featured Mewtwo as an unlockable player character that must be defeated before it may be used, while others like Pokémon Snap have featured the character in cameos, appearing once certain conditions have been met. For all appearances in which the character has spoken dialogue, Mewtwo is voiced by Masachika Ichimura, with the exception of Pokémon Puzzle League, where it is voiced by Philip Bartlett, and Super Smash Bros. for Nintendo 3DS and Wii U, where it is voiced by Keiji Fujiwara. After failing to make a playable appearance in Super Smash Bros. Brawl, Mewtwo returned to the series as a DLC character in Super Smash Bros. for Nintendo 3DS and Wii U on April 28, 2015, though it was made available to Club Nintendo members who registered both versions on April 15, 2015. In 3DS/Wii U, its Final Smash involves it Mega Evolving into Mega Mewtwo Y and using Psystrike, its signature move in the Pokémon games. A new form of Mewtwo, Shadow Mewtwo, appears as a boss character in Pokkén Tournament and has a special attack that involves it Mega Evolving into Mega Mewtwo X. The traditional Mewtwo appears as a playable character as well.\n",
      "\n",
      "\n",
      "In anime and related media\n",
      "Mewtwo is featured in the film Pokémon: The First Movie as the main antagonist, in which it is shown to be the creation of the criminal organization Team Rocket. After Mewtwo destroys the laboratory where it was born, Team Rocket's leader, Giovanni, convinces he can help it control its powers. He instead uses Mewtwo as a weapon. After escaping Giovanni, Mewtwo questions its reason for existence and declares revenge on its creators. To this end, it lures several Pokémon trainers, among them protagonist Ash Ketchum, to its island in order to clone their Pokémon. Once it does so, Mewtwo forces the originals to battle the clones in an effort to determine which set is superior, while Mewtwo faces its own original, Mew. Ash sacrifices himself to stop the fighting, though he is later revived. Mewtwo, Mew, and the clones then leave to find a sanctuary, striking memory of the events from those gathered. In localizing the film for English-language audiences, Mewtwo's personality became more arrogant and megalomaniacal; localization director Norman Grossfield ruled the changes necessary, as he believed American audiences needed a \"clearly evil\" rather than ambiguous villain. In the film, Mewtwo is voiced by Philip Bartlett in English, and by Ichimura in Japanese. In this film, Mewtwo displayed unique abilities and powers unseen in other Pokémon, such as blocking all Pokémon moves in his arena when the clones face off against the originals.\n",
      "In September 1999, Nintendo published Sound Picture Box Mewtwo, which included The Birth of Mewtwo: Pokémon Radio Drama, a CD drama that expands upon Mewtwo's origins. Created by scientist Dr. Fuji, Mewtwo is one of several cloning attempts, which also include a clone of Fuji's deceased daughter. The young Mewtwo befriends her, communicating telepathically; however the cloning process proves unstable, and she dies. To save the traumatized Mewtwo, Fuji erases its memories and puts it under sedation until its body finishes developing, leading to the events of the film. The CD drama was later adapted into a short anime, and was included with Japanese home releases and broadcasts of Mewtwo Strikes Back and later in North America in December 2001 as part of Mewtwo Returns. Mewtwo as a child is voiced in Japanese by Fujiko Takimoto for the CD drama and Showtaro Morikubo for the anime, while in the English localization the voice actor is uncredited.\n",
      "In December 2000, the film was followed by a sequel, Pokémon: Mewtwo Returns, which was broadcast on Japanese television in December 2000 and released worldwide on home video and DVD in 2001. Voiced by Dan Green in English with Ichimura reprising the role in Japanese, Mewtwo and the clones have since found peace in another region. However, Giovanni, whose memories were left intact after the first film, locates and pursues Mewtwo. Assisted by Ash and his companions, Mewtwo comes to terms with its existence and defeats Giovanni, removing any memory of itself from his and his soldiers' minds, while leaving the others unaffected. As everyone departs, Mewtwo sets out on its own.\n",
      "Mewtwo also appears in the musical Pokémon Live!, a live action adaptation of the anime set after Pokémon: The First Movie, and is portrayed by Marton Fulop. In it, Mewtwo faces a robotic replica of itself, MechaMew2, created by Giovanni and able to learn any attacks used against it. However, after learning compassion from Mewtwo, the machine rebels and self-destructs. The 2006 television special Pokémon: The Mastermind of Mirage Pokémon features a hologram version of Mewtwo, created and controlled by the story's antagonist Dr. Yung. With help from a hologram Mew, Ash and his companions destroy the Mewtwo hologram and defeat Yung.\n",
      "Another Mewtwo appears in the anime special Mewtwo: Prologue to Awakening and the film Genesect and the Legend Awakened, voiced by the actress Reiko Takashima, to protect Ash, Iris, Cilan, and Eric from the rampaging Genesect army. This Mewtwo is able to Mega Evolve into Mega Mewtwo Y, referred to in the film as Mewtwo's \"Awakened Form\" (覚醒した姿, Kakusei-shita Sugata).\n",
      "A Mewtwo, which was created by Mr. Fuji, appears in the anime miniseries Pokémon Origins, which is generally based on the plot of the video games Pokémon FireRed and LeafGreen. As such, Red goes to Cerulean Cave, and uses the Mega Evolution mechanic introduced in Pokémon X and Y to Mega Evolve his Charizard for the fight with Mewtwo, whom Red captures.\n",
      "\n",
      "\n",
      "In printed adaptations\n",
      "Mewtwo has appeared as a central character in several books related to the Pokémon franchise, including novelizations of Mewtwo Strikes Back and Mewtwo Returns, both of which closely follow the events of the films. In December 1999, Viz Media published the children's picture book I'm Not Pikachu!: Pokémon Tales Movie Special, which featured children taking on traits of the characters from the film, including Mewtwo. In May 2001, Viz released a second children's book, Mewtwo's Watching You!, which featured a shy Mewtwo interestedly watching other Pokémon play.\n",
      "In the manga series Pokémon Adventures, Team Rocket creates Mewtwo, but some of his DNA is placed inside of the Gym leader Blaine. Because of the DNA that they share, the two are unable to be separated for very long without becoming ill. Later, another Pokémon, Entei is able to break the bond between the two by removing the DNA in Blaine's arm, at which point Mewtwo leaves. It eventually helps the main character of the series, Red, fight against Team Rocket leader Giovanni and his Deoxys.\n",
      "In 1998, Toshihiro Ono was asked to write a story detailing Mewtwo's origin to coincide with the release of Mewtwo Strikes Back. The 52-page comic, presented in the form of a flashback, was replaced midway by \"The Birth of Mewtwo\" animated short, resulting in little connection between Ono's work and the film. Regardless, it saw print as a side story for Pokémon: The Electric Tale of Pikachu in the July 1998 issue of CoroCoro Comic. In it, Mewtwo's creator Dr. Fuji takes on the role of a coach for the fully developed Pokémon, while his employer, Team Rocket, tests its abilities. Learning of a plan to mass-produce it as a weapon, Fuji approaches Mewtwo and tells it to destroy the lab and Fuji himself. Mewtwo refuses, stating it cannot harm the doctor, who it regards as its father. Once captured by Team Rocket, Fuji tells Mewtwo that he is honored by the statement, and is then killed. Angered by his death, Mewtwo destroys the lab and escapes. In the present, Mewtwo cries in its sleep as it dreams of the events.\n",
      "\n",
      "\n",
      "Reception and legacy\n",
      "In the games, Mewtwo is consistently noted as being one of the strongest opponents, and has been described in Pokémon Red and Blue as being \"the best Pokémon in the game\", as well as \"one of the rarest — and hardest to catch\". Because of the character's multiple strengths and few weaknesses, it changed how players approached playing against each other, causing players to either develop strategies solely to defeat an opposing Mewtwo, or prohibit its use when battling other players. IGN's staff bemoaned its exclusion from Super Smash Bros. Brawl. A poll by IGN on whether the character was missed by others in Brawl shared a similar sentiment, though they also described it as one of Super Smash Bros. Melee's weakest characters. Professional Super Smash Bros. player Jason \"Mew2King\" Zimmerman takes his handle from Mewtwo, although he uses other characters in competition. Authors Tracey West and Katherine Noll called Mewtwo the fifth best Legendary Pokémon and the sixth best Pokémon overall.\n",
      "The book Pikachu's Global Adventure: The Rise and Fall of Pokémon noted Mewtwo as popular with older male children who tend to be drawn to \"tough or scary\" characters; Mew in contrast was described as a polar opposite, a character popular with young girls who tend to be drawn to \"cute\" characters. Others books, such as Media and the Make-believe Worlds of Children, have noted a similar comparison, citing Mewtwo as \"more aggressive-looking\" compared to Mew and emphasizing the importance of the contrast for children. The book Gaming Cultures and Place in Asia-Pacific compares Sugimori's design of Mewtwo to that of Japanese tokusatsu films, namely monster films like the 1954 Godzilla in creating \"monstrous yet familiar silhouettes from the past renewed agency in the form of eyes and expressions which cut through the viewer\".\n",
      "In reception to extended media for the Pokémon franchise, Mewtwo has been likened to Frankenstein's monster as a being born from artificial means and discontent with the fact. Theology Secretary for the Church of England Anne Richards described Mewtwo as representing a \"parable about the pointlessness of force\", and praised the character for displaying the Christian value of redemption. Other reactions have been mixed. While it has been cited as a \"complex and compelling villain\" by some critics, its goal of world domination was received as a trait shared by \"…every anime villain…\", and likened to a James Bond villain by Daily Record. However, Animerica praised Mewtwo as a character with \"philosophical depth\" as well as for serving as \"an adversary of almost infinite power and genuine malice\" that the anime series had been lacking. Ken Hollings of Sight & Sound described Mewtwo as \"brooding, articulate and vengeful where the other Pokémon remain bright blobs of wordless energy\", and \"Like a troubled elder brother, Mewtwo represents an older order of experience.\" Anime Classics Zettai!: 100 Must-See Japanese Animation Masterpieces praised the character as the best villain of the Pokémon film series, and one of Mewtwo Strikes Back's strongest elements. The Los Angeles Times cited its behavior as a point of humor in relation to its appearance as a \"decidedly feline character.\"\n",
      "Mewtwo's image is utilized for merchandise related to the Pokémon franchise, which includes toys, children's toothbrushes, and a playing piece for a Pokémon-themed version of Monopoly. Several action figures have been made, such as a posable figure by Hasbro in 2006 that included accessories to recreate its \"Hyper Beam\" and \"Light Screen\" attacks, and a six-inch-tall \"talking\" figurine by Jakks Pacific as part of a series to commemorate the anime's Battle Frontier story arc. Items marketed for adults featuring Mewtwo have also been sold and distributed by Nintendo, such as T-shirts. The island nation of Niue released a one-dollar coin featuring the character as part of a commemorative promotion for the Pokémon franchise, with Mewtwo on one side and the nation's coat of arms on the other. Mewtwo also appears on the port side of All Nippon Airways's Pocket Monsters Boeing 747 jumbo jet, alongside Mew.\n",
      "\n",
      "\n",
      "Notes and references\n",
      "\n",
      "\n",
      "External links\n",
      "\n",
      "Mewtwo's entry at Bulbapedia\n",
      "Mewtwo Museum, a gallery of merchandise related to the character.\n",
      "Mewtwo on IMDb\n",
      "Meowth\n",
      "\n",
      "\n",
      "Meowth ( or , known as Nyarth (ニャース, Nyāsu) in the original Japanese language version) is a Pokémon species in Nintendo and Game Freak's Pokémon franchise. Created by Ken Sugimori, Meowth first appeared in the video games Pokémon Red and Blue and subsequent sequels, in addition it was one of the Pokémon to get an Alola Form variant. It later appeared in various merchandise, spinoff titles and animated and printed adaptations of the franchise. Meowth is voiced by Inuko Inuyama in Japanese, and by Nathan Price (dub episodes 1-32), Maddie Blaustein (dub episode 33 onwards until her death) and James Carter Cathcart (current) in English.\n",
      "Known as the Scratch Cat Pokémon, it spends most of the daytime sleeping and prowls the city streets at night. Meowth evolves into Persian. Meowth is among the most recognizable Pokémon, largely because it is a central character in the Pokémon anime series. This particular Meowth, belonging to Team Rocket, the anime's major antagonists, is one of the few Pokémon that have the ability to speak human language. The episode \"Go West Young Meowth\" shows the character's backstory, in which Meowth attempted to impress a female Meowth (called Meowzie) by teaching himself how to walk on two legs and speak English.\n",
      "In the English version of the franchise, he is given a Brooklyn accent. Meowth has had mixed reception, Game Daily describing him as \"adorable\" and saying he should have his own game, while GamesRadar described it as \"not all that useful\" and said that Meowth would not have stood out if it did not have such a large role in the anime.\n",
      "\n",
      "\n",
      "Design and characteristics\n",
      "\n",
      "Meowth was one of 151 different designs conceived by Game Freak's character development team and finalized by Ken Sugimori for the first generation of Pocket Monsters games Red and Green, which were localized outside Japan as Pokémon Red and Blue. Called \"Nyarth\" in Japanese, Nintendo decided to give the various Pokémon species \"clever and descriptive names\" related to their appearance or features when translating the game for western audiences as a means to make the characters more relatable to American children. Due to its appearance in the anime series as a speaking character, the species was renamed Meowth, a combination of the words \"meow\" and \"mouth\".\n",
      "Meowth has a distinctly feline appearance, resembling a small housecat. It has cream-colored fur, which turns brown at its paws and tail tip. Its oval-shaped head features prominent whiskers, black-and-brown ears, and a koban, a gold oval coin (also known as a \"charm\") embedded in its forehead. Meowth are valued for their ability to collect coins using their signature move, \"Pay Day\", as it is the only Pokémon that learns it. Meowth's coloration, its love of coins, and its charm indicate that Meowth is based on the Japanese Maneki Neko, a cat-shaped figurine that is said to bring good luck and money to its owner. Aspects of Meowth were drawn from a Japanese myth dealing with the true value of money, in which a cat has money on its head but does not realize it. When a Meowth receives enough experience from battles, it evolves into Persian at level 28. Meowth is an urban nocturnal Pokémon, spending most of the daytime sleeping and prowling the city streets at night. They retract their claws back into their paws, which grants them silent movement and protecting them from leaving distinctively incriminating pawprints that alert people to their actions. Meowth loves round objects, as well as shiny, glittering things. The item it adores collecting the most, however, are coins, since they are both round and shiny. Meowth collects the objects at every opportunity and hoards in its nest. Murkrow, a Pokémon similar to the bowerbird, exhibits similar behavior and members of the two species have been known to steal from the collections of the other.\n",
      "\n",
      "\n",
      "Appearances\n",
      "\n",
      "\n",
      "In the video games\n",
      "Meowth first appears as a version exclusive Pokémon in Pokémon Blue. It later appeared in several sequels, including Pokémon Silver, Pokémon Crystal, the Red and Blue remakes Pokémon FireRed and LeafGreen, Pokémon Emerald, Pokémon Diamond, Pearl, and Platinum, and Pokémon SoulSilver. Meowth is one of the playable characters in the Pokémon Mystery Dungeon games. Meowth also appears in the Nintendo 64 game Pokémon Snap, the Nintendo GameCube game Pokémon Channel, and many others. Meowth has appearances in the Super Smash Bros. series (excluding Melee) as a Pokémon summoned via a Poké Ball item and uses its signature move, Pay Day, to throw a barrage of coins. In Pokémon Sun and Moon, Meowth has a unique Alolan Form, which is Dark-type. Alolan Meowth were owned by Alolan royalty in the past, resulting in them having selfish and prideful attitudes, which caused their form to change.\n",
      "\n",
      "\n",
      "In the anime\n",
      "A specific male Meowth has made an appearance in almost every episode in the anime as the constant companion of Team Rocket agents Jessie and James, the show's bungling main antagonists. He originally lived in the city, and tried to impress a female Meowth named Meowzie by learning to walk on two legs and speak human language. Instead of being impressed, she regarded him as a freak, so Meowth joined Team Rocket. Meowth was cloned in Pokémon: The First Movie, but his clone could not talk or walk on two legs, likely because Meowth needed to learn how to perform these actions. The Meowth clone is encountered again in Pokémon: Mewtwo Returns. In the episode \"Meowth’s Scrafty Tactics!\" (S14E43) Meowth temporarily joined the protagonists Ash, Iris, and Cilan, stating that he was fired from Team Rocket for his part in a failed mission, but in reality he was lying in order to gain their trust as part of an elaborate attempt to steal Pokémon from the Nimbasa City Pokémon Center. Despite his frequent appearances, Meowth is a wild Pokémon, which makes him eligible for capture. Iris, Ash’s travel companion, and Cliff, a forest ranger, attempted to capture him because they desired the convenience of a Pokémon that could translate to human language. However, since he does not wish to be owned by anyone, he refutes these attempts at capture.\n",
      "Because Meowth exerted so much effort into being able to talk, he doesn't know how to perform \"Pay Day\" (his species trademark move), and is permanently unable to do so.\n",
      "A trainer named Tyson owns a Meowth, which beat Ash's Pikachu in the Ever Grande Conference. This Meowth was dressed up like Puss in Boots.\n",
      "\n",
      "\n",
      "In other media\n",
      "Meowth appears in The Electric Tale of Pikachu manga series along with his teammates Jessie and James. He first appears in the chapter Pikachu's Excellent Adventure. In Days of Gloom and Glory, an unnamed Meowth based on Meowzie appears. Like in the anime, Meowzie finds Meowth's ability to speak human language \"creepy\". In the manga, she has at least one kitten, which she captures into a stolen Poké Ball to protect it from an impending flood. In the Pokémon Adventures manga, Meowth's first appearance is a cameo in the first chapter as one of the Pokémon that escapes from Professor Oak's Laboratory.\n",
      "Meowth has appeared in the Pokémon Trading Card Game first in the Jungle series. A special Meowth card was available with purchase of Pokémon Trading Card Video Game. In an open forum interview with ABC News, Pokémon anime director Masakazu Kubo noted Meowth as his favorite Pokémon, citing that while not a major character in the games, he was in the anime.\n",
      "\n",
      "\n",
      "Critical reception\n",
      "Meowth ranked fourth on Game Daily's top 10 list of Nintendo characters that deserve their own games, describing him as \"adorable\" and explaining that his intelligence and ability to speak gave him more depth than other Pokémon. IGN stated that without the anime, the character would not have been as famous, further describing it as \"probably the funniest part of the show\". San Francisco Gate editor Jesse Hamlin stated that Meowth provided a few laughs in Pokémon The Movie 2000. However, another editor stated it was popular amongst people who have never seen the anime due to being a feline. Author Harry Schlesinger wrote that Meowth was popular among girls.\n",
      "IGN said that Meowth would make a good choice as a playable character in Super Smash Bros. Brawl \"if Brawl's developers really wanted much more representation for Pokemon as a franchise\" also stating \"it would be fun to face him in battle as a real fighter, just to be able to send him 'blasting off again.'\" GamesRadar described Meowth as \"not all that useful\", and questioned if the character would have stood out if it were not for its portrayal in the anime.\n",
      "GamesRadar editor Carolyn Gudmundson described Meowth as being \"no slouch\" compared to Snorlax, who she described as the greatest Pokémon ever. Fellow GamesRadar editor Justin Towell listed Meowth as one of video games' eight greatest Pokémon, describing him as one of the most memorable characters in the series. Authors Tracey West and Katherine Noll called Meowth the number one Normal type Pokémon and the tenth best Pokémon overall. They called its anime incarnation the \"heart and soul of Team Rocket\", and praised it as \"funny and clever\".\n",
      "\n",
      "\n",
      "References\n",
      "\n",
      "\n",
      "External links\n",
      "\n",
      "Bulbapedia’s article about Meowth as a species\n",
      "Meowth on IMDb\n",
      "Gengar\n",
      "\n",
      "\n",
      "Gengar, known in Japan as Gangar (ゲンガー, Gengā), is a Pokémon species in Nintendo and Game Freak's Pokémon franchise. It is a Ghost/Poison type Pokémon. Designed by Game Freak, their name is both the singular and plural name of the species. First appearing in Pokémon Red and Blue, they later appeared in subsequent sequels, spin-off games, related merchandise, and animated and printed adaptations of the franchise. In animated appearances, Gengar are voiced in Japanese by Kōichi Sakaguchi and in English localizations by Ted Lewis.\n",
      "Gengar has been well received by the media, noted as popular with older male children and praised for its appearance. Groups such as IGN and Official Nintendo Magazine have praised its abilities and style, with both naming it one of the series' best characters. Gengar is the most evolved of the three Ghost Pokémon in the First Generation.\n",
      "\n",
      "\n",
      "Design and characteristics\n",
      "\n",
      "Unlike other Pokémon in the series, Gengar originally appeared in the manga Capsule Monsters, an early concept by Satoshi Tajiri which evolved into the basis for the modern Pokémon franchise. During development of Pocket Monsters games Red and Green, which were localized outside Japan as Pokémon Red and Blue, Game Freak illustrator Ken Sugimori adapted the character concept for the games. Called \"Gangar\" in Japanese, Nintendo decided to give the various Pokémon species \"clever and descriptive names\" related to their appearance or features when translating the game for western audiences as a means to make the characters more relatable to American children. Originally intending to call the species \"Phantom\", due to an existing trademark for a character with the same name they adapted its Japanese name for the English language instead. It was given a \"Mega Evolution\" in Pokémon X and Y. Series producer Junichi Masuda noted that Mega Gengar was difficult to render in 3D due to some of the things it was going to do.\n",
      "Known as the Shadow Pokémon, Gengar is a dark-purple Pokémon with a roundish body. Gengar is the first of its evolutions to have hands and legs connected to its body. Gengar also has a spike-covered back, and its eyes are a sinister red. Its mouth is usually curled into a wicked grin. Gengar steals the heat from the area around it; its presence cools the temperature of the surrounding area by nearly 10 °F.\n",
      "Gengar, very mischievous and sometime malicious creatures, live in shadows of rooms, caves, and dark places where shadows form, especially in urban areas such as cities and back alleys but only during the night. They enjoy playing practical jokes, such as pretending to be one's shadow and then behaving erratically. When the victim notices the sudden change in the movement of their shadow and becomes afraid, Gengar takes delight in the victim's fear. Gengar have the ability to lay curses on their foe, and it is said to steal the lives of those who become lost in mountains by overtaking the prey's shadow and silently waiting for an opportunity. Like its predecessor in evolution Haunter, Gengar can lick victims with its tongue and paralyze them; the attack is far more associated with Haunter and its effects have not shown in the anime.\n",
      "The Seventh Generation furthers its description by adding that they are lonely and will take the lives of others in order to make friends.\n",
      "\n",
      "\n",
      "Appearances\n",
      "\n",
      "\n",
      "In video games\n",
      "Gengar's Pokémon series debut was in Pokémon Red and Blue, where it is only obtainable by evolving Haunter by trading it. Haunter later appeared in several sequels, including Pokémon Gold and Silver, Pokémon FireRed and LeafGreen, Pokémon Diamond and Pearl, Pokémon HeartGold and SoulSilver, and Pokémon Black and White. Notable trainers that use Gengar are Agatha of the Kanto Elite Four, Morty, Gym Leader of Ecruteak City Gym, and Fantina, Gym Leader of Hearthome City Gym. Outside of the main series, Gengar has appeared in the Pokémon Ranger games. In Pokémon Mystery Dungeon, Gengar is the main antagonist, and the leader of Team Meanies, which includes an Ekans and Medicham. Gengar spends much of the game causing trouble, even convincing the village to exile the hero, blaming him or her for the natural disasters. However, it is later revealed that Gengar is the cursed human that the plot mentions. Gengar is an NPC in PokéPark Wii: Pikachu's Adventure and its sequel, PokéPark 2: Wonders Beyond. In Pokémon X and Y, Gengar can become Mega Gengar, with its new unblinking third eye able to peer into other dimensions. Gengar is a playable character in Pokkén Tournament.\n",
      "A Gengar-themed mini-CD-ROM was released by Mattel Interactive in 2000.\n",
      "\n",
      "\n",
      "In anime\n",
      "In the anime, Gengar made its first appearance in the opening of the first episode, \"Pokémon, I Choose You!\", where it and a Nidorino battled in a Colosseum on television, a scene that mimicked the intro of Pokémon Blue. Ash first saw a Gengar in person in Lavender Town in \"The Tower of Terror\" while searching for a Ghost-type Pokémon with which to fight Sabrina, the Saffron City gym leader specializing in Psychic-types. Due to a close call, Ash spent some unexpected time with the ghostly trio, Gastly, Haunter, and Gengar. It, along with Haunter, seemed to have a fondness for Japanese stand-up, and unsuccessfully attempted to amuse Ash by acting as a pair of performers. In \"The Ancient Puzzle of Pokémopolis\", a giant Gengar was awakened where it battled an equally large Alakazam. Drake of the Orange Islands used a Gengar in his battle with Ash in \"Hello, Pummelo!\" and \"Enter The Dragonite.\" A Gengar appeared under the ownership of Ecruteak City Gym Leader Morty in \"A Ghost Of A Chance\", \"From Ghost to Ghost\", and \"For Ho-Oh the Bells Toll!\". Agatha used a Gengar to battle Ash's Pikachu in \"The Scheme Team\"; her Gengar actually defeated the electric mouse Pokémon.\n",
      "\n",
      "\n",
      "In other media\n",
      "In the Pokémon Adventures manga, Agatha has two Gengar on her team. One of them was used to attack Blue and Koga from the shadows, draining the latter's life force as it possessed his shadow. Another Gengar was seen at the beginning of the FireRed and LeafGreen saga in Volume 23. It was used by a kid from Pallet Town in an attempt to capture a Nidorino, replicating the opening sequence of Pokémon Red and Blue.\n",
      "\n",
      "\n",
      "Promotion and reception\n",
      "Gengar and its earlier evolutions were popular Pokémon in Pokémon Red, Blue, and Yellow. A Gengar-themed limited edition set of chocolate chip-flavoured Eggo Waffles were made in a partnership between Nintendo and Kellogg's. Pokémon artist Ken Sugimori noted Gengar as his favourite Pokémon due to his simplistic design. The book Pikachu's Global Adventure: The Rise and Fall of Pokémon cited Gengar as popular with older male children who tend to be drawn to \"tough or scary\" characters. Cindy Jacobs, author of Deliver Us from Evil, claimed that Gengar's ability to \"curse Pokemon players\" taught children that \"cursing through magic\" was okay. It was described by Time as having a \"devilishly cute smile, horns to match and a crocodile spine\". GamesRadar described the species along with its two pre-evolutions as the \"most famous\" of Ghost-type Pokémon.\" They further stated that Gengar's design made it \"extremely desirable.\" In 2013, ScrewAttack placed Gengar at number 3 in top ten Ghosts in video game history.\n",
      "Official Nintendo Magazine named Gengar one of the ten best Pokémon in the game as of 2010, stating that people \"either love Gengar or hate it.\" In a later reader-based poll, it placed ninth as one of the best ghost characters in a Nintendo game, which the magazine attributed to its design. ONM also included it in its list of cool non-legendary Pokémon. Editor Thomas East noted it as a \"cult favourite\" of the ONM staff. IGN called Gengar the best Ghost type Pokémon in Red and Blue, and also praised its appearance, citing a resemblance to Nekobus from My Neighbor Totoro. Patricia Hernandez named Gengar her favourite from Pokémon Red and Blue. IGN readers named it the 17th best Pokémon. Former IGN editor Audrey Drake called it a \"pimp.\" Game Informer called it the 32nd best Pokémon. Game Revolution also included it in its list of the best Pokémon at 15.\n",
      "Patricia Hernandez criticized its Mega form, despite her admiration for Gengar. She felt that it didn't get better, just weirder. She also felt that its rarer alternate colour was worse-looking than its normal form. Its Mega form was ranked third in a poll of Japanese readers by Famitsu among other Mega forms.\n",
      "\n",
      "\n",
      "See also\n",
      "\n",
      "\n",
      "References\n",
      "\n",
      "\n",
      "External links\n",
      "Gengar on Bulbapedia\n",
      "Jynx\n",
      "\n",
      "\n",
      "Jynx, known in Japan as Rougela (ルージュラ, Rūjura), is a Pokémon species in Nintendo and Game Freak's Pokémon franchise. Created by Ken Sugimori, Jynx first appeared in the video games Pokémon Red and Blue and subsequent sequels, later appearing in various merchandise, spinoff titles, or animated and printed adaptations of the franchise. The character is voiced in Japanese by Mayumi Tanaka and by Rachael Lillis in English.\n",
      "Jynx's design and humanoid appearance has been heavily criticized by the Western media, most notably by cultural critic Carole Boston Weatherford, who described Jynx as representing blackface after seeing the character's depiction in the anime. Due to complaints, Game Freak modified its appearance by changing the original color of its face from black to the current color, purple.\n",
      "\n",
      "\n",
      "Design and characteristics\n",
      "Jynx was one of 151 different designs conceived by Game Freak's character development team and finalized by Ken Sugimori for the first generation of Pocket Monsters games Red and Green, which were localized outside Japan as Pokémon Red and Blue. Originally called \"Rougela\" in Japanese, Nintendo decided to give the various Pokémon species \"clever and descriptive names\" related to their appearance or features, when translating the game for western audiences, as a means to make the characters more relatable to American children. As a result, they were renamed \"Jynx\", a play on the word \"jinx\".\n",
      "Also known as the \"Human Shape\" Pokémon, Jynx is a female-only species that resembles the Japanese mythical creatures Yamauba and Yuki-onna. Originally portrayed with a black face and hands, Jynx's design was changed to purple coloration after critiques that it perpetuated racism. In addition Jynx have large pink lips, saucer-like eyes, white arms, and long, blond hair. The \"clothes\" they appear to wear are actually part of their body, resembling a circular red bra and skirt. Jynx have no visible feet, and in the games leave no footprints. Jynx has a pre-evolution, Smoochum, which evolves into Jynx when it receives enough experience from battles and reaches level 30.\n",
      "Jynx Pokémon walk in a dance-like fashion, wiggling their hips in a manner described by Nintendo as \"seductive\". It uses dancing to communicate, with the exact rhythm relying on its emotion at the time. The dance affects people, causing them to themselves dance with no regard to their actions. Jynx speak in a language that only other Jynx can understand, though the sound is described as similar to human speech. This trait is carried on to games where Pokémon speak English such as the Pokémon Mystery Dungeon series, with the text appearing as combinations of \"X\"s, \"O\"s, punctuation marks, and/or musical notes, instead of legible words. Jynx are psychic, and can attack either by kissing an opponent or launching \"strange orbs\" at them, and can protect themselves with a psychically-generated barrier.\n",
      "\n",
      "\n",
      "Appearances\n",
      "\n",
      "\n",
      "In video games\n",
      "In Pokémon Red and Blue and their remakes, Pokémon FireRed and LeafGreen, Jynx is a rare Pokémon that is only available through trading with an in-game NPC. In addition, the Kanto Elite Four member Lorelei uses a Jynx on her team. Jynx appears in the wild in Pokémon Gold and Silver, Pokémon Platinum, Pokémon HeartGold and SoulSilver, and Pokémon X and Y. Because of the controversy of Jynx's skin, it was changed from black to purple in Pokémon Stadium 2 and all later games. Jynx is the evolved form of Smoochum. Outside of the main series, Jynx appeared in Pokémon Snap, Pokémon Pinball, Pokémon Mystery Dungeon: Explorers of Time and Explorers of Darkness, and the Pokémon Ranger games.\n",
      "\n",
      "\n",
      "In anime\n",
      "Jynx first appeared in the Pokémon anime in Holiday Hi-Jynx when one of Santa Claus's Jynx was separated from him and Ash and friends helped to return the Jynx to her owner. The episode was not re-aired in USA because of the controversy over her appearance. However, it was placed on On-Demand on 2011, so people who live in USA could have easily viewed it then. Jynx appeared again in the episode The Ice Cave, which was not aired in English-speaking countries for the same reason. Jynx also made a cameo as a doll that Misty wins. Jynx later appears in Pokémon Orange Islands series, in episodes still present in American rotations.\n",
      "Jynx made an appearance in a contest in All Things Bright and Beautifly. However, because Jynx had been animated with black skin instead of purple, her 13-second appearance was cut from the English dub. Jynx later appears in episodes 116 and 117 of Pokémon: Advanced Generation, with the inoffensive purple skin color. Because the main order of these episodes would have been during February which is also Black History Month, KidsWB chose to air these episodes out of order and air them in April after the Hoenn Championship League episodes as it would help build the ratings with the Grand Festival and Hoenn League episodes and it would have avoided offending people during February due to the Jynx controversy. However one exception was in the episode Hi Ho Silver Wind! where a purple Jynx had a minor cameo which aired in February. These episodes were aired in the normal rotational order in the UK. A trio of Jynx sisters were later depicted in the episode Three Jynx and a Baby. These three Jynx were overly-protective towards their sister, a Smoochum. The Smoochum evolved into a Jynx at the end of the episode.\n",
      "\n",
      "\n",
      "In printed material\n",
      "Jynx's most notable role in the Pokémon manga is being under the ownership of Lorelei in Pokémon Adventures. Lorelei's Jynx is noted for having the ability to generate voodoo dolls out of ice using its Ice Beam. When Lorelei draws crosses on any part of the dolls using her lipstick, ice shackles form on the specified body parts of her targets, eventually freezing the victim over completely. Even after the victims are broken free, the freeze induces lasting numbness in the areas where it was applied. Both Red and Sabrina suffered this condition and had to seek a cure atop Mt. Silver by bathing in the hotsprings there. Another ability of Lorelei's Jynx is revealed in the Sevii Islands saga: she can create a wispy band of ice around targets, with which Lorelei can use to track down using her powder case.\n",
      "Jynx has made a number of appearances in the Pokémon Trading Card Game, with the black-skinned design (sometimes US version cards show up purple and edited before the controversy) before the Weatherford controversy, and with the purple-skinned design after Nintendo regained control of the Pokémon TCG. Jynx first appeared in the Base Set with her black-skinned design, but later reprints of this card have the purple-skinned design.\n",
      "\n",
      "\n",
      "Controversy and reception\n",
      "\n",
      "Jynx's appearance and design have received criticisms in various publications. Children's book author and cultural critic Carole Boston Weatherford published an article in the Greensboro News & Record alleging that Jynx's design bore a striking resemblance to blackface actors, an image considered racist against black people, and further described the Pokémon as \"a dead ringer for an obese drag queen.\" She further criticized the Pokémon in the magazine Advertising Age, comparing it to Little Black Sambo and suggesting its English name as also a possible derogatory remark towards blacks relating to voodoo (with its original Japanese name, Rougela, being unrelated). Since then, the Jim Crow Museum at Ferris State University has listed Jynx as an example of racism in modern material. In response, Game Freak modified Jynx's design in localized versions of the games, a change which would several years later be reflected in the Japanese versions of the games and the anime series. In addition, episodes featuring the older Jynx design were censored or completely removed from televised syndication by Warner Bros.\n",
      "Criticisms still persist, such as 1UP.com which, in an article discussing the \"lamest Pokémon\" of the series, referred to it as the \"infamous blackface Pokémon\". Washington Post writer Mary C. Morton described Jynx as having \"explicitly, albeit grossly caricatured, womanly features\", and challenged the assertion that the games crossed gender barriers with such. In their podcast, Retronauts, they emphasized it further, noting the design as \"creepy\" and that it maintained the issue of racism still. IGN also criticized the design, characterizing Jynx as a \"transvestite midget in racially offensive makeup\". GameDaily ranked it first on their list of the \"Top 10 Weirdest Looking Pokémon\", noting its design suggested the presence of breasts, and echoing qualms regarding its resemblance to blackface performers. Games.net ranked it fourth on their \"Top 10 Disturbingly Sexual Game Characters\" list, questioning why the character was clothed in what resembled a \"slinky dress and push-up bra\". On the other hand, the book Gaming Cultures and Place in Asia-Pacific defended Jynx's design, suggesting Sugimori developed it to draw upon the humor of heta-uma (a term meaning bad/nice), and described the design as oscillating between the poles of good and bad, as a result offering diversity within the game and inviting scrutiny from players. GamesRadar described Magmar and Jynx as the Romeo and Juliet of Pokémon. GamesRadar's Carolyn Gudmundson compared Jynx to the Gothita line due to both's designs being based on an \"overtly feminine form\", though describing Gothita's line as \"way less creepy\". Author Loredana Lipperini described Jynx as an \"opera singer\". GamesRadar editor Carolyn Gudmundson listed \"Humanoid\" as one of the most overused Pokémon designs, listing Jynx and Mr. Mime as one of \"the most infamous\" examples.\n",
      "\n",
      "\n",
      "See also\n",
      "\n",
      "Pokémon episodes removed from rotation, a list of episodes of the anime removed due to various controversies, including an episode removed due to featuring Jynx.\n",
      "\n",
      "\n",
      "References\n",
      "\n",
      "\n",
      "External links\n",
      "Jynx on Bulbapedia\n",
      "Togepi\n",
      "\n",
      "\n",
      "Togepi (トゲピー, Togepī, ) is a Pokémon in Nintendo and Game Freak's Pokémon franchise. Created by Ken Sugimori, Togepi first appeared in the Pokémon anime, in which it became a major character for the first five seasons under the ownership of Misty. It then appeared in the video games Pokémon Gold and Silver and subsequent sequels, later appearing in various merchandise, spinoff titles, and animated and printed adaptations.\n",
      "Togepi the Pokémon, is a cute baby Pokémon that is considered a symbol of good luck. Togepi is a small, light yellow Pokémon with a round body that is still encased in its egg shell. It has red and blue rings on it, suggesting that its real body has the same pattern. Togepi has stubby hands and round feet with two toes each. It has black eyes and three spikes on its head. Togepi is filled with joy, because it is able to siphon the positive energy of others, and release it to those in need of it. Making a sleeping Togepi stand up is said to bring happiness.\n",
      "Togepi made its video game debut in Pokémon Gold and Silver alongside its first evolution Togetic, which is obtainable after raising a Togepi to a certain degree of happiness. After evolving, it loses its shell while retaining the shell's red and blue pattern. Additionally, Togetic also sport a relatively long neck, visible legs and a pair of wings on their backs, giving them a vaguely angelic or fairy-like appearance. In Pokémon Diamond and Pearl, Togepi gained its second and final evolution called Togekiss. In order to obtain one, the player must use a Shiny Stone on a Togetic. Although it retains both its red and blue pattern and fairy-like design, Togekiss also resembles a dove, gaining a plumper body, long wings in place of arms, and stubby feet similar to Togepi's. Its dove-like design is further referenced with its newly acquired empathy, as Togekiss will only appear when people respect one another and when there is a lack of strife within the area.\n",
      "\n",
      "\n",
      "Evolution\n",
      "Togepi is capable of evolving twice, although there is no specific level required for it do so. Its first evolution is Togetic, which requires Togepi's happiness to be sufficiently high. Togetic's torso retains the same red and blue triangular patterns it had on its shell as a Togepi, but it gains a visible neck and its fairy-inspired appearance is more accentuated due to gaining a pair of stubby wings and an all-white coloration. Its second and final evolution is Togekiss, which requires a Togetic to be exposed to a Shiny Stone in order to evolve. Togekiss retains the red and blue triangular patterns and fairy-inspired appearance seen in its previous forms, but it noticeably shows a slight avian body shape as well. Unlike its previous forms, Togekiss debuted two generations after them in Pokémon Diamond and Pearl.\n",
      "\n",
      "\n",
      "Appearances\n",
      "\n",
      "\n",
      "Video games\n",
      "In the Pokémon Gold, Silver, and Crystal games, Togepi first appears as a mystery egg given to the player by a minor character called \"Mr. Pokémon\", which they have to take back to Professor Elm, who tells the player to keep it. In Pokémon FireRed and LeafGreen a character living in the Sevii Islands will give you a Togepi egg, after obtaining the National Pokédex. In Pokémon Diamond and Pearl, Cynthia will give the player a Togepi egg. In Pokémon Stadium 2, Togepi stars in its own minigame called \"Tumbling Togepi\". Players have to wobble 100-yards down the field avoiding all kinds of objects. Togepi appears in a dungeon crawling mini-game in Pokémon minis called Togepi's Great Adventure. Togepi also appears in all Super Smash Bros. games since Melee as a Poké Ball summon, using Metronome upon being released.\n",
      "\n",
      "\n",
      "Anime\n",
      "In the Pokémon anime, Togepi is one of the first second generation Pokémon revealed before the release of Pokémon Gold and Silver. In \"Attack of the Prehistoric Pokémon\", Ash finds a Pokémon egg. It hatches into a Togepi in \"Who Gets to Keep Togepi?\", and since Misty is the first thing the baby Pokémon sees, it believes Misty is its mother due to filial imprinting, thus anticipating Togepi's connection with birds, which becomes clearer in the evolved forms Togetic and Togekiss.\n",
      "Misty grows inseparable to her Togepi and carries it around everywhere. While it is too young to know any other attacks, it is shown to know the \"Metronome\" move, which it has used on several occasions. In the Advanced Generation episode \"A Togepi Mirage!\", Misty travels to Hoenn to meet up with Ash, Brock, May, and Max. Togepi evolves into a Togetic to protect the \"Mirage Kingdom\", which serves as a Togepi paradise. Misty decides to let it stay and protect the Mirage Kingdom, and continues to travel without it. Another Togepi appeared in the episode \"Where No Togepi Has Gone Before\". This one had a mischievous personality, playing tricks on both Ash and his friends and Team Rocket, eventually blasting off into space aboard a spaceship.\n",
      "\n",
      "\n",
      "Manga\n",
      "In the Pokémon Adventures manga, Gold receives an egg from Jasmine's Togetic, which eventually hatched into a Togepi. However, unlike regular Togepi, this one has angry facial expressions and is quite violent, as it defeated a wild Gligar that wanted to eat its egg just after it was born. Also, Gold's Togepi picked up on some of his gambling habits as an egg. After a considerable amount of time, Gold and Togepi finally bond at the Ruins of Alph while trying to stop Arceus from rampaging, which enables Gold's Togepi to evolve into a Togetic and then immediately into a Togekiss due to Gold receiving a Shiny Stone from Lance. Although their attacks do not deal any damage to Arceus, Gold and Togekiss still manage to calm it down and stop its rampage.\n",
      "\n",
      "\n",
      "Reception\n",
      "Togepi has been featured in several pieces of promotional merchandise, including plush toys and figurines. It has been featured multiple times in Burger King promotions, including once as beanbag and again as a 23K gold-plated cards. Togepi has also been featured several times as part of the Pokémon Trading Card Game. Togepi was also featured as a part of a promotion between Nintendo and Eggo. Togepi appeared on the side of a 747-400 airplane, along with several other Pokémon.\n",
      "Since appearing in the Pokémon anime, Togepi has received somewhat positive reception. Wired commented that Togepi was a favourite since it first appeared in the episode \"Attack of the Prehistoric Pokémon\". The Mirror editor Fiona Parker described Togepi as a \"lovable, egg-shaped Pokémon\". IGN listed Togepi as a nominee for younger readers to choose as the cutest Pokémon. Because Togepi was among the first of the new Pokémon from Pokémon Gold and Silver to appear in the anime, Togepi was popular amongst fans, GamesRadar editor Brett Elston commenting that all fans could talk about was \"Togepi this\" and \"Togepi that\". He would later criticize its design, commenting that its appearance in Super Smash Bros. Brawl put people to sleep with its boring design. Fellow GamesRadar editor Raymond Padilla described Togepi as a useless egg-like creature, claiming that it was annoying in the anime. IGN included Togepi in a poll of younger readers on the best Pokémon. They also described Togepi as \"pleasantly plump\" and a \"fatty.\"\n",
      "In the book The Japanification of Children's Popular Culture: From Godzilla to Miyazaki, author Mark I. West describes Misty, a protagonist of the anime, as a mother figure, adding that her motherly instincts are seen more in how she takes care of Togepi, who he describes as an \"overactive toddler\" who requires constant care. Author Gerard Jones commented that Togepi was a good Pokémon for Pokémon fans who fantasize about taking care of babies. In the book Media And the Make-Believe Worlds of Children: When Harry Potter Meets Pokémon in Disneyland, author Maya Götz describes a discussion with a girl named Patricia who dreams of Togepi as her friend, calling it a \"moon manikin\" who lives on the moon, flying back and forth from the \"land of milk and honey\". Maya suggests that Patricia dreams back to an early phase in her life that is symbolized by the \"newly-hatched Togepi, needing protection.\" The Independent Collegian used the scene of Professor Elm's Aide giving Togepi to the players as a scene that will immediately bring back memories to die-hard Pokémon fans.\n",
      "\n",
      "\n",
      "References\n",
      "\n",
      "\n",
      "External links\n",
      "\n",
      "Official Pokémon website\n",
      "Togepi on Bulbapedia\n",
      "Togepi on IMDb\n"
     ]
    }
   ],
   "source": [
    "## Before starting the assignment, I want to combine all 10 text documents into one doc named \"result.txt\"\n",
    "\n",
    "import glob\n",
    "\n",
    "file_list = glob.glob(\"Data/*.txt\")\n",
    "with open('result.txt', 'w', encoding='utf8') as outfile:\n",
    "    for filename in file_list:\n",
    "        with open(filename, encoding='utf8') as infile:\n",
    "            contents = infile.read()\n",
    "            outfile.write(contents)\n",
    "\n",
    "# Print the combined documents\n",
    "combined_docs = open('result.txt', 'r', encoding='utf8')\n",
    "for line in combined_docs:\n",
    "    print(line.strip())"
   ]
  },
  {
   "cell_type": "markdown",
   "metadata": {},
   "source": [
    "# Step 1: Tokenization"
   ]
  },
  {
   "cell_type": "code",
   "execution_count": 3,
   "metadata": {
    "scrolled": false
   },
   "outputs": [],
   "source": [
    "import nltk\n",
    "import string\n",
    "\n",
    "from collections import Counter\n",
    "\n",
    "# define a function to tokenize the documents\n",
    "# we remove the punctuations and normalize each word by making them lowercase\n",
    "def get_tokens():\n",
    "    with open(filename, encoding=\"utf8\") as documents:\n",
    "        text = documents.read()\n",
    "        lowercase = text.lower()\n",
    "        no_punctuation = text.translate(str.maketrans('','',string.punctuation))\n",
    "        tokens = nltk.word_tokenize(no_punctuation)\n",
    "    return tokens"
   ]
  },
  {
   "cell_type": "markdown",
   "metadata": {},
   "source": [
    "#### Parsing document 1"
   ]
  },
  {
   "cell_type": "code",
   "execution_count": 4,
   "metadata": {},
   "outputs": [
    {
     "data": {
      "text/plain": [
       "1672"
      ]
     },
     "execution_count": 4,
     "metadata": {},
     "output_type": "execute_result"
    }
   ],
   "source": [
    "filename = 'Data/a1.txt'\n",
    "token1 = get_tokens()\n",
    "count1 = Counter(token1)\n",
    "len(token1)"
   ]
  },
  {
   "cell_type": "code",
   "execution_count": 5,
   "metadata": {},
   "outputs": [
    {
     "data": {
      "text/plain": [
       "662"
      ]
     },
     "execution_count": 5,
     "metadata": {},
     "output_type": "execute_result"
    }
   ],
   "source": [
    "len(count1)"
   ]
  },
  {
   "cell_type": "markdown",
   "metadata": {},
   "source": [
    "Number of tokens: 1672"
   ]
  },
  {
   "cell_type": "markdown",
   "metadata": {},
   "source": [
    "Number of types: 662"
   ]
  },
  {
   "cell_type": "markdown",
   "metadata": {},
   "source": [
    "#### Parsing document 2"
   ]
  },
  {
   "cell_type": "code",
   "execution_count": 6,
   "metadata": {},
   "outputs": [
    {
     "data": {
      "text/plain": [
       "4223"
      ]
     },
     "execution_count": 6,
     "metadata": {},
     "output_type": "execute_result"
    }
   ],
   "source": [
    "filename = 'Data/a2.txt'\n",
    "token2 = get_tokens()\n",
    "count2 = Counter(token2)\n",
    "len(token2)"
   ]
  },
  {
   "cell_type": "code",
   "execution_count": 7,
   "metadata": {},
   "outputs": [
    {
     "data": {
      "text/plain": [
       "1338"
      ]
     },
     "execution_count": 7,
     "metadata": {},
     "output_type": "execute_result"
    }
   ],
   "source": [
    "len(count2)"
   ]
  },
  {
   "cell_type": "markdown",
   "metadata": {},
   "source": [
    "Number of tokens: 4223"
   ]
  },
  {
   "cell_type": "markdown",
   "metadata": {},
   "source": [
    "Number of types: 1338"
   ]
  },
  {
   "cell_type": "markdown",
   "metadata": {},
   "source": [
    "#### Parsing document 3"
   ]
  },
  {
   "cell_type": "code",
   "execution_count": 8,
   "metadata": {},
   "outputs": [
    {
     "data": {
      "text/plain": [
       "1905"
      ]
     },
     "execution_count": 8,
     "metadata": {},
     "output_type": "execute_result"
    }
   ],
   "source": [
    "filename = 'Data/a3.txt'\n",
    "token3 = get_tokens()\n",
    "count3 = Counter(token3)\n",
    "len(token3)"
   ]
  },
  {
   "cell_type": "code",
   "execution_count": 9,
   "metadata": {},
   "outputs": [
    {
     "data": {
      "text/plain": [
       "744"
      ]
     },
     "execution_count": 9,
     "metadata": {},
     "output_type": "execute_result"
    }
   ],
   "source": [
    "len(count3)"
   ]
  },
  {
   "cell_type": "markdown",
   "metadata": {},
   "source": [
    "Number of tokens: 1905"
   ]
  },
  {
   "cell_type": "markdown",
   "metadata": {},
   "source": [
    "Number of types: 744"
   ]
  },
  {
   "cell_type": "markdown",
   "metadata": {},
   "source": [
    "#### Parsing document 4"
   ]
  },
  {
   "cell_type": "code",
   "execution_count": 10,
   "metadata": {},
   "outputs": [
    {
     "data": {
      "text/plain": [
       "2885"
      ]
     },
     "execution_count": 10,
     "metadata": {},
     "output_type": "execute_result"
    }
   ],
   "source": [
    "filename = 'Data/a4.txt'\n",
    "token4 = get_tokens()\n",
    "count4 = Counter(token4)\n",
    "len(token4)"
   ]
  },
  {
   "cell_type": "code",
   "execution_count": 11,
   "metadata": {},
   "outputs": [
    {
     "data": {
      "text/plain": [
       "1033"
      ]
     },
     "execution_count": 11,
     "metadata": {},
     "output_type": "execute_result"
    }
   ],
   "source": [
    "len(count4)"
   ]
  },
  {
   "cell_type": "markdown",
   "metadata": {},
   "source": [
    "Number of tokens: 2885"
   ]
  },
  {
   "cell_type": "markdown",
   "metadata": {},
   "source": [
    "Number of types: 1033"
   ]
  },
  {
   "cell_type": "markdown",
   "metadata": {},
   "source": [
    "#### Parsing document 5"
   ]
  },
  {
   "cell_type": "code",
   "execution_count": 12,
   "metadata": {},
   "outputs": [
    {
     "data": {
      "text/plain": [
       "2998"
      ]
     },
     "execution_count": 12,
     "metadata": {},
     "output_type": "execute_result"
    }
   ],
   "source": [
    "filename = 'Data/a5.txt'\n",
    "token5 = get_tokens()\n",
    "count5 = Counter(token5)\n",
    "len(token5)"
   ]
  },
  {
   "cell_type": "code",
   "execution_count": 13,
   "metadata": {},
   "outputs": [
    {
     "data": {
      "text/plain": [
       "1113"
      ]
     },
     "execution_count": 13,
     "metadata": {},
     "output_type": "execute_result"
    }
   ],
   "source": [
    "len(count5)"
   ]
  },
  {
   "cell_type": "markdown",
   "metadata": {},
   "source": [
    "Number of tokens: 2998"
   ]
  },
  {
   "cell_type": "markdown",
   "metadata": {},
   "source": [
    "Number of types: 1113"
   ]
  },
  {
   "cell_type": "markdown",
   "metadata": {},
   "source": [
    "#### Parsing document 6"
   ]
  },
  {
   "cell_type": "code",
   "execution_count": 14,
   "metadata": {},
   "outputs": [
    {
     "data": {
      "text/plain": [
       "1542"
      ]
     },
     "execution_count": 14,
     "metadata": {},
     "output_type": "execute_result"
    }
   ],
   "source": [
    "filename = 'Data/a6.txt'\n",
    "token6 = get_tokens()\n",
    "count6 = Counter(token6)\n",
    "len(token6)"
   ]
  },
  {
   "cell_type": "code",
   "execution_count": 15,
   "metadata": {},
   "outputs": [
    {
     "data": {
      "text/plain": [
       "639"
      ]
     },
     "execution_count": 15,
     "metadata": {},
     "output_type": "execute_result"
    }
   ],
   "source": [
    "len(count6)"
   ]
  },
  {
   "cell_type": "markdown",
   "metadata": {},
   "source": [
    "Number of tokens: 1542"
   ]
  },
  {
   "cell_type": "markdown",
   "metadata": {},
   "source": [
    "Number of types: 639"
   ]
  },
  {
   "cell_type": "markdown",
   "metadata": {},
   "source": [
    "#### Parsing document 7"
   ]
  },
  {
   "cell_type": "code",
   "execution_count": 16,
   "metadata": {},
   "outputs": [
    {
     "data": {
      "text/plain": [
       "1421"
      ]
     },
     "execution_count": 16,
     "metadata": {},
     "output_type": "execute_result"
    }
   ],
   "source": [
    "filename = 'Data/a7.txt'\n",
    "token7 = get_tokens()\n",
    "count7 = Counter(token7)\n",
    "len(token7)"
   ]
  },
  {
   "cell_type": "code",
   "execution_count": 17,
   "metadata": {},
   "outputs": [
    {
     "data": {
      "text/plain": [
       "623"
      ]
     },
     "execution_count": 17,
     "metadata": {},
     "output_type": "execute_result"
    }
   ],
   "source": [
    "len(count7)"
   ]
  },
  {
   "cell_type": "markdown",
   "metadata": {},
   "source": [
    "Number of tokens: 1421"
   ]
  },
  {
   "cell_type": "markdown",
   "metadata": {},
   "source": [
    "Number of types: 623"
   ]
  },
  {
   "cell_type": "markdown",
   "metadata": {},
   "source": [
    "#### Parsing document 8"
   ]
  },
  {
   "cell_type": "code",
   "execution_count": 18,
   "metadata": {},
   "outputs": [
    {
     "data": {
      "text/plain": [
       "1591"
      ]
     },
     "execution_count": 18,
     "metadata": {},
     "output_type": "execute_result"
    }
   ],
   "source": [
    "filename = 'Data/a8.txt'\n",
    "token8 = get_tokens()\n",
    "count8 = Counter(token8)\n",
    "len(token8)"
   ]
  },
  {
   "cell_type": "code",
   "execution_count": 19,
   "metadata": {},
   "outputs": [
    {
     "data": {
      "text/plain": [
       "698"
      ]
     },
     "execution_count": 19,
     "metadata": {},
     "output_type": "execute_result"
    }
   ],
   "source": [
    "len(count8)"
   ]
  },
  {
   "cell_type": "markdown",
   "metadata": {},
   "source": [
    "Number of tokens: 1591"
   ]
  },
  {
   "cell_type": "markdown",
   "metadata": {},
   "source": [
    "Number of types: 698"
   ]
  },
  {
   "cell_type": "markdown",
   "metadata": {},
   "source": [
    "#### Parsing document 9"
   ]
  },
  {
   "cell_type": "code",
   "execution_count": 20,
   "metadata": {},
   "outputs": [
    {
     "data": {
      "text/plain": [
       "1401"
      ]
     },
     "execution_count": 20,
     "metadata": {},
     "output_type": "execute_result"
    }
   ],
   "source": [
    "filename = 'Data/a9.txt'\n",
    "token9 = get_tokens()\n",
    "count9 = Counter(token9)\n",
    "len(token9)"
   ]
  },
  {
   "cell_type": "code",
   "execution_count": 21,
   "metadata": {},
   "outputs": [
    {
     "data": {
      "text/plain": [
       "602"
      ]
     },
     "execution_count": 21,
     "metadata": {},
     "output_type": "execute_result"
    }
   ],
   "source": [
    "len(count9)"
   ]
  },
  {
   "cell_type": "markdown",
   "metadata": {},
   "source": [
    "Number of tokens: 1401"
   ]
  },
  {
   "cell_type": "markdown",
   "metadata": {},
   "source": [
    "Number of types: 602"
   ]
  },
  {
   "cell_type": "markdown",
   "metadata": {},
   "source": [
    "#### Parsing document 10"
   ]
  },
  {
   "cell_type": "code",
   "execution_count": 22,
   "metadata": {},
   "outputs": [
    {
     "data": {
      "text/plain": [
       "1247"
      ]
     },
     "execution_count": 22,
     "metadata": {},
     "output_type": "execute_result"
    }
   ],
   "source": [
    "filename = 'Data/a10.txt'\n",
    "token10 = get_tokens()\n",
    "count10 = Counter(token10)\n",
    "len(token10)"
   ]
  },
  {
   "cell_type": "code",
   "execution_count": 23,
   "metadata": {},
   "outputs": [
    {
     "data": {
      "text/plain": [
       "560"
      ]
     },
     "execution_count": 23,
     "metadata": {},
     "output_type": "execute_result"
    }
   ],
   "source": [
    "len(count10)"
   ]
  },
  {
   "cell_type": "markdown",
   "metadata": {},
   "source": [
    "Number of tokens: 1247"
   ]
  },
  {
   "cell_type": "markdown",
   "metadata": {},
   "source": [
    "Number of types: 560"
   ]
  },
  {
   "cell_type": "markdown",
   "metadata": {},
   "source": [
    "#### Parsing the entire corpus(collections)"
   ]
  },
  {
   "cell_type": "code",
   "execution_count": 24,
   "metadata": {},
   "outputs": [
    {
     "data": {
      "text/plain": [
       "20885"
      ]
     },
     "execution_count": 24,
     "metadata": {},
     "output_type": "execute_result"
    }
   ],
   "source": [
    "filename = 'result.txt'\n",
    "token_all = get_tokens()\n",
    "count_all = Counter(token_all)\n",
    "len(token_all)"
   ]
  },
  {
   "cell_type": "code",
   "execution_count": 25,
   "metadata": {},
   "outputs": [
    {
     "data": {
      "text/plain": [
       "4144"
      ]
     },
     "execution_count": 25,
     "metadata": {},
     "output_type": "execute_result"
    }
   ],
   "source": [
    "len(count_all)"
   ]
  },
  {
   "cell_type": "markdown",
   "metadata": {},
   "source": [
    "Number of tokens: 20885"
   ]
  },
  {
   "cell_type": "markdown",
   "metadata": {},
   "source": [
    "Number of types: 4144"
   ]
  },
  {
   "cell_type": "markdown",
   "metadata": {},
   "source": [
    "# Step 2: Stopword Removal"
   ]
  },
  {
   "cell_type": "markdown",
   "metadata": {},
   "source": [
    "How many tokens and types (unique tokens) are in each document after removing all the stop words?"
   ]
  },
  {
   "cell_type": "markdown",
   "metadata": {},
   "source": [
    "#### Document 1"
   ]
  },
  {
   "cell_type": "code",
   "execution_count": 26,
   "metadata": {},
   "outputs": [
    {
     "data": {
      "text/plain": [
       "1027"
      ]
     },
     "execution_count": 26,
     "metadata": {},
     "output_type": "execute_result"
    }
   ],
   "source": [
    "from nltk.corpus import stopwords\n",
    "\n",
    "filtered1 = [w for w in token1 if not w in stopwords.words('english')]\n",
    "count1 = Counter(filtered1)\n",
    "len(filtered1)"
   ]
  },
  {
   "cell_type": "code",
   "execution_count": 27,
   "metadata": {},
   "outputs": [
    {
     "data": {
      "text/plain": [
       "588"
      ]
     },
     "execution_count": 27,
     "metadata": {},
     "output_type": "execute_result"
    }
   ],
   "source": [
    "len(count1)"
   ]
  },
  {
   "cell_type": "markdown",
   "metadata": {},
   "source": [
    "Number of tokens after stopword removal: 1027"
   ]
  },
  {
   "cell_type": "markdown",
   "metadata": {},
   "source": [
    "Number of types after stopword removal: 588"
   ]
  },
  {
   "cell_type": "markdown",
   "metadata": {},
   "source": [
    "#### Document 2"
   ]
  },
  {
   "cell_type": "code",
   "execution_count": 28,
   "metadata": {},
   "outputs": [
    {
     "data": {
      "text/plain": [
       "2537"
      ]
     },
     "execution_count": 28,
     "metadata": {},
     "output_type": "execute_result"
    }
   ],
   "source": [
    "filtered2 = [w for w in token2 if not w in stopwords.words('english')]\n",
    "count2 = Counter(filtered2)\n",
    "len(filtered2)"
   ]
  },
  {
   "cell_type": "code",
   "execution_count": 29,
   "metadata": {},
   "outputs": [
    {
     "data": {
      "text/plain": [
       "1236"
      ]
     },
     "execution_count": 29,
     "metadata": {},
     "output_type": "execute_result"
    }
   ],
   "source": [
    "len(count2)"
   ]
  },
  {
   "cell_type": "markdown",
   "metadata": {},
   "source": [
    "Number of tokens after stopword removal: 2537"
   ]
  },
  {
   "cell_type": "markdown",
   "metadata": {},
   "source": [
    "Number of types after stopword removal: 1236"
   ]
  },
  {
   "cell_type": "markdown",
   "metadata": {},
   "source": [
    "#### Document 3"
   ]
  },
  {
   "cell_type": "code",
   "execution_count": 30,
   "metadata": {},
   "outputs": [
    {
     "data": {
      "text/plain": [
       "1151"
      ]
     },
     "execution_count": 30,
     "metadata": {},
     "output_type": "execute_result"
    }
   ],
   "source": [
    "filtered3 = [w for w in token3 if not w in stopwords.words('english')]\n",
    "count3 = Counter(filtered3)\n",
    "len(filtered3)"
   ]
  },
  {
   "cell_type": "code",
   "execution_count": 31,
   "metadata": {},
   "outputs": [
    {
     "data": {
      "text/plain": [
       "676"
      ]
     },
     "execution_count": 31,
     "metadata": {},
     "output_type": "execute_result"
    }
   ],
   "source": [
    "len(count3)"
   ]
  },
  {
   "cell_type": "markdown",
   "metadata": {},
   "source": [
    "Number of tokens after stopword removal: 1151"
   ]
  },
  {
   "cell_type": "markdown",
   "metadata": {},
   "source": [
    "Number of types after stopword removal: 676"
   ]
  },
  {
   "cell_type": "markdown",
   "metadata": {},
   "source": [
    "#### Document 4"
   ]
  },
  {
   "cell_type": "code",
   "execution_count": 32,
   "metadata": {},
   "outputs": [
    {
     "data": {
      "text/plain": [
       "1792"
      ]
     },
     "execution_count": 32,
     "metadata": {},
     "output_type": "execute_result"
    }
   ],
   "source": [
    "filtered4 = [w for w in token4 if not w in stopwords.words('english')]\n",
    "count4 = Counter(filtered4)\n",
    "len(filtered4)"
   ]
  },
  {
   "cell_type": "code",
   "execution_count": 33,
   "metadata": {},
   "outputs": [
    {
     "data": {
      "text/plain": [
       "947"
      ]
     },
     "execution_count": 33,
     "metadata": {},
     "output_type": "execute_result"
    }
   ],
   "source": [
    "len(count4)"
   ]
  },
  {
   "cell_type": "markdown",
   "metadata": {},
   "source": [
    "Number of tokens after stopword removal: 1792"
   ]
  },
  {
   "cell_type": "markdown",
   "metadata": {},
   "source": [
    "Number of types after stopword removal: 947"
   ]
  },
  {
   "cell_type": "markdown",
   "metadata": {},
   "source": [
    "#### Document 5"
   ]
  },
  {
   "cell_type": "code",
   "execution_count": 34,
   "metadata": {},
   "outputs": [
    {
     "data": {
      "text/plain": [
       "1875"
      ]
     },
     "execution_count": 34,
     "metadata": {},
     "output_type": "execute_result"
    }
   ],
   "source": [
    "filtered5 = [w for w in token5 if not w in stopwords.words('english')]\n",
    "count5 = Counter(filtered5)\n",
    "len(filtered5)"
   ]
  },
  {
   "cell_type": "code",
   "execution_count": 35,
   "metadata": {},
   "outputs": [
    {
     "data": {
      "text/plain": [
       "1031"
      ]
     },
     "execution_count": 35,
     "metadata": {},
     "output_type": "execute_result"
    }
   ],
   "source": [
    "len(count5)"
   ]
  },
  {
   "cell_type": "markdown",
   "metadata": {},
   "source": [
    "Number of tokens after stopword removal: 1875"
   ]
  },
  {
   "cell_type": "markdown",
   "metadata": {},
   "source": [
    "Number of types after stopword removal: 1031"
   ]
  },
  {
   "cell_type": "markdown",
   "metadata": {},
   "source": [
    "#### Document 6"
   ]
  },
  {
   "cell_type": "code",
   "execution_count": 36,
   "metadata": {},
   "outputs": [
    {
     "data": {
      "text/plain": [
       "941"
      ]
     },
     "execution_count": 36,
     "metadata": {},
     "output_type": "execute_result"
    }
   ],
   "source": [
    "filtered6 = [w for w in token6 if not w in stopwords.words('english')]\n",
    "count6 = Counter(filtered6)\n",
    "len(filtered6)"
   ]
  },
  {
   "cell_type": "code",
   "execution_count": 37,
   "metadata": {},
   "outputs": [
    {
     "data": {
      "text/plain": [
       "565"
      ]
     },
     "execution_count": 37,
     "metadata": {},
     "output_type": "execute_result"
    }
   ],
   "source": [
    "len(count6)"
   ]
  },
  {
   "cell_type": "markdown",
   "metadata": {},
   "source": [
    "Number of tokens after stopword removal: 941"
   ]
  },
  {
   "cell_type": "markdown",
   "metadata": {},
   "source": [
    "Number of types after stopword removal: 565"
   ]
  },
  {
   "cell_type": "markdown",
   "metadata": {},
   "source": [
    "#### Document 7"
   ]
  },
  {
   "cell_type": "code",
   "execution_count": 38,
   "metadata": {},
   "outputs": [
    {
     "data": {
      "text/plain": [
       "886"
      ]
     },
     "execution_count": 38,
     "metadata": {},
     "output_type": "execute_result"
    }
   ],
   "source": [
    "filtered7 = [w for w in token7 if not w in stopwords.words('english')]\n",
    "count7 = Counter(filtered7)\n",
    "len(filtered7)"
   ]
  },
  {
   "cell_type": "code",
   "execution_count": 39,
   "metadata": {},
   "outputs": [
    {
     "data": {
      "text/plain": [
       "561"
      ]
     },
     "execution_count": 39,
     "metadata": {},
     "output_type": "execute_result"
    }
   ],
   "source": [
    "len(count7)"
   ]
  },
  {
   "cell_type": "markdown",
   "metadata": {},
   "source": [
    "Number of tokens after stopword removal: 886"
   ]
  },
  {
   "cell_type": "markdown",
   "metadata": {},
   "source": [
    "Number of types after stopword removal: 561"
   ]
  },
  {
   "cell_type": "markdown",
   "metadata": {},
   "source": [
    "#### Document 8"
   ]
  },
  {
   "cell_type": "code",
   "execution_count": 40,
   "metadata": {},
   "outputs": [
    {
     "data": {
      "text/plain": [
       "989"
      ]
     },
     "execution_count": 40,
     "metadata": {},
     "output_type": "execute_result"
    }
   ],
   "source": [
    "filtered8 = [w for w in token8 if not w in stopwords.words('english')]\n",
    "count8 = Counter(filtered8)\n",
    "len(filtered8)"
   ]
  },
  {
   "cell_type": "code",
   "execution_count": 41,
   "metadata": {},
   "outputs": [
    {
     "data": {
      "text/plain": [
       "624"
      ]
     },
     "execution_count": 41,
     "metadata": {},
     "output_type": "execute_result"
    }
   ],
   "source": [
    "len(count8)"
   ]
  },
  {
   "cell_type": "markdown",
   "metadata": {},
   "source": [
    "Number of tokens after stopword removal: 989"
   ]
  },
  {
   "cell_type": "markdown",
   "metadata": {},
   "source": [
    "Number of types after stopword removal: 624"
   ]
  },
  {
   "cell_type": "markdown",
   "metadata": {},
   "source": [
    "#### Document 9"
   ]
  },
  {
   "cell_type": "code",
   "execution_count": 42,
   "metadata": {},
   "outputs": [
    {
     "data": {
      "text/plain": [
       "867"
      ]
     },
     "execution_count": 42,
     "metadata": {},
     "output_type": "execute_result"
    }
   ],
   "source": [
    "filtered9 = [w for w in token9 if not w in stopwords.words('english')]\n",
    "count9 = Counter(filtered9)\n",
    "len(filtered9)"
   ]
  },
  {
   "cell_type": "code",
   "execution_count": 43,
   "metadata": {},
   "outputs": [
    {
     "data": {
      "text/plain": [
       "527"
      ]
     },
     "execution_count": 43,
     "metadata": {},
     "output_type": "execute_result"
    }
   ],
   "source": [
    "len(count9)"
   ]
  },
  {
   "cell_type": "markdown",
   "metadata": {},
   "source": [
    "Number of tokens after stopword removal: 867"
   ]
  },
  {
   "cell_type": "markdown",
   "metadata": {},
   "source": [
    " Number of types after stopword removal: 527"
   ]
  },
  {
   "cell_type": "markdown",
   "metadata": {},
   "source": [
    "#### Document 10"
   ]
  },
  {
   "cell_type": "code",
   "execution_count": 44,
   "metadata": {},
   "outputs": [
    {
     "data": {
      "text/plain": [
       "761"
      ]
     },
     "execution_count": 44,
     "metadata": {},
     "output_type": "execute_result"
    }
   ],
   "source": [
    "filtered10 = [w for w in token10 if not w in stopwords.words('english')]\n",
    "count10 = Counter(filtered10)\n",
    "len(filtered10)"
   ]
  },
  {
   "cell_type": "code",
   "execution_count": 45,
   "metadata": {},
   "outputs": [
    {
     "data": {
      "text/plain": [
       "491"
      ]
     },
     "execution_count": 45,
     "metadata": {},
     "output_type": "execute_result"
    }
   ],
   "source": [
    "len(count10)"
   ]
  },
  {
   "cell_type": "markdown",
   "metadata": {},
   "source": [
    "Number of tokens after stopword removal: 761"
   ]
  },
  {
   "cell_type": "markdown",
   "metadata": {},
   "source": [
    "Number of types after stopword removal: 491"
   ]
  },
  {
   "cell_type": "markdown",
   "metadata": {},
   "source": [
    "# Step 3: Stemming/Lemmatization"
   ]
  },
  {
   "cell_type": "markdown",
   "metadata": {},
   "source": [
    "How many terms (size of vocabulary) are left in each document after stemming/lemmatization and what’s the total vocabulary size for the entire corpus?"
   ]
  },
  {
   "cell_type": "code",
   "execution_count": 46,
   "metadata": {},
   "outputs": [],
   "source": [
    "from nltk.stem.porter import *\n",
    "\n",
    "# Define the function to lemmatize the documents to its root words.\n",
    "\n",
    "stemmer = PorterStemmer()\n",
    "def stem_tokens(token, stemmer):\n",
    "    stemmed=[]\n",
    "    for item in token:\n",
    "        stemmed.append(stemmer.stem(item))\n",
    "    return stemmed"
   ]
  },
  {
   "cell_type": "markdown",
   "metadata": {},
   "source": [
    "#### Document 1"
   ]
  },
  {
   "cell_type": "code",
   "execution_count": 47,
   "metadata": {},
   "outputs": [
    {
     "data": {
      "text/plain": [
       "502"
      ]
     },
     "execution_count": 47,
     "metadata": {},
     "output_type": "execute_result"
    }
   ],
   "source": [
    "stem_tokens(token1, stemmer)\n",
    "stemmed = stem_tokens(filtered1, stemmer)\n",
    "count1 = Counter(stemmed)\n",
    "len(count1)"
   ]
  },
  {
   "cell_type": "markdown",
   "metadata": {},
   "source": [
    "Size of Vocabulary: 502"
   ]
  },
  {
   "cell_type": "markdown",
   "metadata": {},
   "source": [
    "#### Document 2"
   ]
  },
  {
   "cell_type": "code",
   "execution_count": 48,
   "metadata": {},
   "outputs": [
    {
     "data": {
      "text/plain": [
       "997"
      ]
     },
     "execution_count": 48,
     "metadata": {},
     "output_type": "execute_result"
    }
   ],
   "source": [
    "stem_tokens(token2, stemmer)\n",
    "stemmed = stem_tokens(filtered2, stemmer)\n",
    "count2 = Counter(stemmed)\n",
    "len(count2)"
   ]
  },
  {
   "cell_type": "markdown",
   "metadata": {},
   "source": [
    "Size of Vocabulary: 997"
   ]
  },
  {
   "cell_type": "markdown",
   "metadata": {},
   "source": [
    "#### Document 3"
   ]
  },
  {
   "cell_type": "code",
   "execution_count": 49,
   "metadata": {},
   "outputs": [
    {
     "data": {
      "text/plain": [
       "580"
      ]
     },
     "execution_count": 49,
     "metadata": {},
     "output_type": "execute_result"
    }
   ],
   "source": [
    "stem_tokens(token3, stemmer)\n",
    "stemmed = stem_tokens(filtered3, stemmer)\n",
    "count3 = Counter(stemmed)\n",
    "len(count3)"
   ]
  },
  {
   "cell_type": "markdown",
   "metadata": {},
   "source": [
    "Size of Vocabulary: 580"
   ]
  },
  {
   "cell_type": "markdown",
   "metadata": {},
   "source": [
    "#### Document 4"
   ]
  },
  {
   "cell_type": "code",
   "execution_count": 50,
   "metadata": {},
   "outputs": [
    {
     "data": {
      "text/plain": [
       "775"
      ]
     },
     "execution_count": 50,
     "metadata": {},
     "output_type": "execute_result"
    }
   ],
   "source": [
    "stem_tokens(token4, stemmer)\n",
    "stemmed = stem_tokens(filtered4, stemmer)\n",
    "count4 = Counter(stemmed)\n",
    "len(count4)"
   ]
  },
  {
   "cell_type": "markdown",
   "metadata": {},
   "source": [
    "Size of Vocabulary: 775"
   ]
  },
  {
   "cell_type": "markdown",
   "metadata": {},
   "source": [
    "#### Document 5"
   ]
  },
  {
   "cell_type": "code",
   "execution_count": 51,
   "metadata": {},
   "outputs": [
    {
     "data": {
      "text/plain": [
       "836"
      ]
     },
     "execution_count": 51,
     "metadata": {},
     "output_type": "execute_result"
    }
   ],
   "source": [
    "stem_tokens(token5, stemmer)\n",
    "stemmed = stem_tokens(filtered5, stemmer)\n",
    "count5 = Counter(stemmed)\n",
    "len(count5)"
   ]
  },
  {
   "cell_type": "markdown",
   "metadata": {},
   "source": [
    "Size of Vocabulary: 836"
   ]
  },
  {
   "cell_type": "markdown",
   "metadata": {},
   "source": [
    "#### Document 6"
   ]
  },
  {
   "cell_type": "code",
   "execution_count": 52,
   "metadata": {},
   "outputs": [
    {
     "data": {
      "text/plain": [
       "498"
      ]
     },
     "execution_count": 52,
     "metadata": {},
     "output_type": "execute_result"
    }
   ],
   "source": [
    "stem_tokens(token6, stemmer)\n",
    "stemmed = stem_tokens(filtered6, stemmer)\n",
    "count6 = Counter(stemmed)\n",
    "len(count6)"
   ]
  },
  {
   "cell_type": "markdown",
   "metadata": {},
   "source": [
    "Size of Vocabulary: 498"
   ]
  },
  {
   "cell_type": "markdown",
   "metadata": {},
   "source": [
    "#### Document 7"
   ]
  },
  {
   "cell_type": "code",
   "execution_count": 53,
   "metadata": {},
   "outputs": [
    {
     "data": {
      "text/plain": [
       "492"
      ]
     },
     "execution_count": 53,
     "metadata": {},
     "output_type": "execute_result"
    }
   ],
   "source": [
    "stem_tokens(token7, stemmer)\n",
    "stemmed = stem_tokens(filtered7, stemmer)\n",
    "count7 = Counter(stemmed)\n",
    "len(count7)"
   ]
  },
  {
   "cell_type": "markdown",
   "metadata": {},
   "source": [
    "Size of Vocabulary: 492"
   ]
  },
  {
   "cell_type": "markdown",
   "metadata": {},
   "source": [
    "#### Document 8"
   ]
  },
  {
   "cell_type": "code",
   "execution_count": 54,
   "metadata": {},
   "outputs": [
    {
     "data": {
      "text/plain": [
       "528"
      ]
     },
     "execution_count": 54,
     "metadata": {},
     "output_type": "execute_result"
    }
   ],
   "source": [
    "stem_tokens(token8, stemmer)\n",
    "stemmed = stem_tokens(filtered8, stemmer)\n",
    "count8 = Counter(stemmed)\n",
    "len(count8)"
   ]
  },
  {
   "cell_type": "markdown",
   "metadata": {},
   "source": [
    "Size of Vocabulary: 528"
   ]
  },
  {
   "cell_type": "markdown",
   "metadata": {},
   "source": [
    "#### Document 9"
   ]
  },
  {
   "cell_type": "code",
   "execution_count": 55,
   "metadata": {},
   "outputs": [
    {
     "data": {
      "text/plain": [
       "453"
      ]
     },
     "execution_count": 55,
     "metadata": {},
     "output_type": "execute_result"
    }
   ],
   "source": [
    "stem_tokens(token9, stemmer)\n",
    "stemmed = stem_tokens(filtered9, stemmer)\n",
    "count9 = Counter(stemmed)\n",
    "len(count9)"
   ]
  },
  {
   "cell_type": "markdown",
   "metadata": {},
   "source": [
    "Size of Vocabulary: 453"
   ]
  },
  {
   "cell_type": "markdown",
   "metadata": {},
   "source": [
    "#### Document 10"
   ]
  },
  {
   "cell_type": "code",
   "execution_count": 56,
   "metadata": {},
   "outputs": [
    {
     "data": {
      "text/plain": [
       "427"
      ]
     },
     "execution_count": 56,
     "metadata": {},
     "output_type": "execute_result"
    }
   ],
   "source": [
    "stem_tokens(token10, stemmer)\n",
    "stemmed = stem_tokens(filtered10, stemmer)\n",
    "count10 = Counter(stemmed)\n",
    "len(count10)"
   ]
  },
  {
   "cell_type": "markdown",
   "metadata": {},
   "source": [
    "Size of Vocabulary: 427"
   ]
  },
  {
   "cell_type": "markdown",
   "metadata": {},
   "source": [
    "#### All the documents"
   ]
  },
  {
   "cell_type": "code",
   "execution_count": 57,
   "metadata": {},
   "outputs": [
    {
     "data": {
      "text/plain": [
       "2905"
      ]
     },
     "execution_count": 57,
     "metadata": {},
     "output_type": "execute_result"
    }
   ],
   "source": [
    "# Perform stopword removal of documents as a whole\n",
    "filtered_all = [w for w in token_all if not w in stopwords.words('english')]\n",
    "count_all = Counter(filtered_all)\n",
    "\n",
    "# Stemming/Lemmatization\n",
    "stem_tokens(token_all, stemmer)\n",
    "stemmed = stem_tokens(filtered_all, stemmer)\n",
    "count_all = Counter(stemmed)\n",
    "len(count_all)"
   ]
  },
  {
   "cell_type": "markdown",
   "metadata": {},
   "source": [
    "Size of Vocabulary: 2905"
   ]
  },
  {
   "cell_type": "markdown",
   "metadata": {},
   "source": [
    "# Step 4: Compute TF-IDF of each document in the corpus"
   ]
  },
  {
   "cell_type": "code",
   "execution_count": 1,
   "metadata": {},
   "outputs": [
    {
     "name": "stdout",
     "output_type": "stream",
     "text": [
      "  (0, 380)\t0.0039054358464855115\n",
      "  (0, 1492)\t0.0039054358464855115\n",
      "  (0, 890)\t0.0039054358464855115\n",
      "  (0, 2119)\t0.0039054358464855115\n",
      "  (0, 2898)\t0.010563220155141247\n",
      "  (0, 697)\t0.010563220155141247\n",
      "  (0, 566)\t0.006984705485077477\n",
      "  (0, 1334)\t0.010563220155141247\n",
      "  (0, 1733)\t0.008979702187436498\n",
      "  (0, 251)\t0.008979702187436498\n",
      "  (0, 1774)\t0.015712356618584142\n",
      "  (0, 1450)\t0.008979702187436498\n",
      "  (0, 2230)\t0.015712356618584142\n",
      "  (0, 2938)\t0.015712356618584142\n",
      "  (0, 2660)\t0.010563220155141247\n",
      "  (0, 1034)\t0.007856178309292071\n",
      "  (0, 1541)\t0.0042776636392283015\n",
      "  (0, 856)\t0.006984705485077477\n",
      "  (0, 2533)\t0.008979702187436498\n",
      "  (0, 1038)\t0.0046891423738825745\n",
      "  (0, 2260)\t0.006272660341587323\n",
      "  (0, 1437)\t0.008979702187436498\n",
      "  (0, 2677)\t0.006984705485077477\n",
      "  (0, 2692)\t0.010563220155141247\n",
      "  (0, 2690)\t0.008979702187436498\n",
      "  :\t:\n",
      "  (9, 2446)\t0.004751235131980083\n",
      "  (9, 1622)\t0.008675597505774813\n",
      "  (9, 2772)\t0.004337798752887406\n",
      "  (9, 1446)\t0.008675597505774813\n",
      "  (9, 2301)\t0.004751235131980083\n",
      "  (9, 2512)\t0.005208267845404175\n",
      "  (9, 2115)\t0.021688993764437035\n",
      "  (9, 2785)\t0.01301339625866222\n",
      "  (9, 2600)\t0.24291673016169477\n",
      "  (9, 179)\t0.07374257879908591\n",
      "  (9, 966)\t0.03904018877598666\n",
      "  (9, 2523)\t0.004337798752887406\n",
      "  (9, 1395)\t0.004337798752887406\n",
      "  (9, 389)\t0.01301339625866222\n",
      "  (9, 596)\t0.005208267845404175\n",
      "  (9, 1007)\t0.004337798752887406\n",
      "  (9, 1010)\t0.004751235131980083\n",
      "  (9, 1045)\t0.030364591270211846\n",
      "  (9, 157)\t0.22122773639725773\n",
      "  (9, 1746)\t0.008675597505774813\n",
      "  (9, 1267)\t0.1865253463741585\n",
      "  (9, 1949)\t0.16049855385683406\n",
      "  (9, 67)\t0.26026792517324443\n",
      "  (9, 1325)\t0.09976937131641035\n",
      "  (9, 1819)\t0.004337798752887406\n"
     ]
    }
   ],
   "source": [
    "import nltk\n",
    "import string\n",
    "import os\n",
    "\n",
    "from sklearn.feature_extraction.text import TfidfVectorizer\n",
    "from nltk.stem.porter import PorterStemmer\n",
    "\n",
    "path = 'Data'\n",
    "token_dict = {}\n",
    "stemmer = PorterStemmer()\n",
    "\n",
    "\n",
    "# Apply lemmatization\n",
    "def stem_tokens(tokens, stemmer):\n",
    "    stemmed = []\n",
    "    for item in tokens:\n",
    "        stemmed.append(stemmer.stem(item))\n",
    "    return stemmed\n",
    "\n",
    "# Tokenize the text\n",
    "def tokenize(text):\n",
    "    tokens = nltk.word_tokenize(text)\n",
    "    stems = stem_tokens(tokens, stemmer)\n",
    "    return stems\n",
    "\n",
    "\n",
    "for subdir, dirs, files in os.walk(path):\n",
    "    for file in files:\n",
    "        file_path = subdir + os.path.sep + file\n",
    "        doc = open(file_path, 'r', encoding='utf8')\n",
    "        text = doc.read()\n",
    "        lowers = text.lower()\n",
    "        no_punctuation = text.translate(str.maketrans('','',string.punctuation))\n",
    "        token_dict[file] = no_punctuation\n",
    "\n",
    "# I did not use stopwords parameter because it gave me warnings, so results may vary\n",
    "tfidf = TfidfVectorizer(tokenizer=tokenize)\n",
    "tfs = tfidf.fit_transform(token_dict.values())\n",
    "print(tfs)"
   ]
  },
  {
   "cell_type": "markdown",
   "metadata": {},
   "source": [
    "# Step 5: Compute the Cosine Similarity"
   ]
  },
  {
   "cell_type": "code",
   "execution_count": 20,
   "metadata": {
    "scrolled": true
   },
   "outputs": [
    {
     "name": "stdout",
     "output_type": "stream",
     "text": [
      "Computing Cosine Similarity for every pair of two documents in the corpus:\n",
      "           0         1         2         3         4         5         6  \\\n",
      "0  1.000000  0.521080  0.574955  0.525430  0.550008  0.509865  0.491978   \n",
      "1  0.521080  1.000000  0.630418  0.568023  0.583114  0.553054  0.529054   \n",
      "2  0.574955  0.630418  1.000000  0.638142  0.734219  0.662359  0.631943   \n",
      "3  0.525430  0.568023  0.638142  1.000000  0.595270  0.571750  0.539223   \n",
      "4  0.550008  0.583114  0.734219  0.595270  1.000000  0.608267  0.557317   \n",
      "5  0.509865  0.553054  0.662359  0.571750  0.608267  1.000000  0.543021   \n",
      "6  0.491978  0.529054  0.631943  0.539223  0.557317  0.543021  1.000000   \n",
      "7  0.516628  0.551327  0.625272  0.561686  0.581911  0.554612  0.524662   \n",
      "8  0.464698  0.496154  0.605459  0.516506  0.536971  0.517110  0.493548   \n",
      "9  0.427660  0.455216  0.492442  0.471311  0.460873  0.443441  0.433049   \n",
      "\n",
      "          7         8         9  \n",
      "0  0.516628  0.464698  0.427660  \n",
      "1  0.551327  0.496154  0.455216  \n",
      "2  0.625272  0.605459  0.492442  \n",
      "3  0.561686  0.516506  0.471311  \n",
      "4  0.581911  0.536971  0.460873  \n",
      "5  0.554612  0.517110  0.443441  \n",
      "6  0.524662  0.493548  0.433049  \n",
      "7  1.000000  0.505333  0.447973  \n",
      "8  0.505333  1.000000  0.401288  \n",
      "9  0.447973  0.401288  1.000000  \n",
      "\n"
     ]
    }
   ],
   "source": [
    "from sklearn.metrics.pairwise import cosine_similarity\n",
    "import pandas\n",
    "\n",
    "cos_sim = cosine_similarity(tfs, dense_output=False)\n",
    "inOrder = pandas.DataFrame(cos_sim.toarray())\n",
    "print('Computing Cosine Similarity for every pair of two documents in the corpus:\\n {}\\n'.format(inOrder))"
   ]
  },
  {
   "cell_type": "code",
   "execution_count": 21,
   "metadata": {},
   "outputs": [],
   "source": [
    "with open(\"cossim.txt\",\"w\") as file:\n",
    "    file.write(str(inOrder)) \n",
    "    file.close()"
   ]
  },
  {
   "cell_type": "markdown",
   "metadata": {},
   "source": [
    "See cossim.txt for the similarity matrix of pairs of documents."
   ]
  }
 ],
 "metadata": {
  "kernelspec": {
   "display_name": "Python 3",
   "language": "python",
   "name": "python3"
  },
  "language_info": {
   "codemirror_mode": {
    "name": "ipython",
    "version": 3
   },
   "file_extension": ".py",
   "mimetype": "text/x-python",
   "name": "python",
   "nbconvert_exporter": "python",
   "pygments_lexer": "ipython3",
   "version": "3.8.6"
  }
 },
 "nbformat": 4,
 "nbformat_minor": 4
}
